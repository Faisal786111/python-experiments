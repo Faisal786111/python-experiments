{
 "cells": [
  {
   "cell_type": "markdown",
   "id": "c06daef7",
   "metadata": {
    "id": "c06daef7"
   },
   "source": [
    "# Experiment Number 4:"
   ]
  },
  {
   "cell_type": "markdown",
   "id": "94839e60",
   "metadata": {
    "id": "94839e60"
   },
   "source": [
    "#### **Name of the Student:** <span style=\"color:red\">Faisal</span>         \n",
    "#### **Roll Number:** <span style=\"color:red\">197</span>    \n",
    "#### **Class:** <span style=\"color:red\">SY Comps</span>\n",
    "### **Batch:** <span style=\"color:red\">C12</span>"
   ]
  },
  {
   "cell_type": "markdown",
   "id": "191ca584",
   "metadata": {},
   "source": [
    "# Arrays (20 Questions)\n",
    "\n"
   ]
  },
  {
   "cell_type": "markdown",
   "id": "c427db05",
   "metadata": {},
   "source": [
    "## Basic (1-10) ATTEMPT ALL 10"
   ]
  },
  {
   "cell_type": "markdown",
   "id": "96237694",
   "metadata": {},
   "source": [
    "\t1\tWrite a program to find the largest element in an array.\n",
    "\t2\tWrite a program to find the smallest element in an array.\n",
    "\t3\tWrite a function to find the sum of all elements in an array.\n",
    "\t4\tImplement a function to reverse an array in place.\n",
    "\t5\tFind the second largest element in an array.\n",
    "\t6\tRemove duplicate elements from an array.\n",
    "\t7\tFind the frequency of each element in an array.\n",
    "\t8\tFind the missing number in a list of integers from 1 to N.\n",
    "\t9\tRotate an array left by one position.\n",
    "\t10\tRotate an array right by k positions."
   ]
  },
  {
   "cell_type": "markdown",
   "id": "08b85f22",
   "metadata": {},
   "source": [
    "## Intermediate (11-20) ATTEMPT ALL 10"
   ]
  },
  {
   "cell_type": "markdown",
   "id": "7f33ef3c",
   "metadata": {},
   "source": [
    "\t11\tFind the intersection of two arrays.\n",
    "\t12\tFind the union of two arrays.\n",
    "\t13\tFind the maximum sum subarray using Kadane’s algorithm.\n",
    "\t14\tFind the first repeating element in an array.\n",
    "\t15\tMove all zeros to the end of an array without changing the order of non-zero elements.\n",
    "\t16\tCheck if an array is sorted in ascending order.\n",
    "\t17\tFind the common elements in three sorted arrays.\n",
    "\t18\tSort an array using the Bubble Sort algorithm.\n",
    "\t19\tSort an array using the Insertion Sort algorithm.\n",
    "\t20\tFind the majority element (element appearing more than N/2 times in an array).\n"
   ]
  },
  {
   "cell_type": "markdown",
   "id": "77d3c8ef",
   "metadata": {},
   "source": [
    "# Functions (20 Questions)"
   ]
  },
  {
   "cell_type": "markdown",
   "id": "1f3e70d2",
   "metadata": {},
   "source": [
    "## Basic (ATTEMPT ALL 10)"
   ]
  },
  {
   "cell_type": "markdown",
   "id": "fe9526c3",
   "metadata": {},
   "source": [
    "\t1\tWrite a function to check if a number is even or odd.\n",
    "\t2\tWrite a function to find the factorial of a given number.\n",
    "\t3\tImplement a function to find the maximum of three numbers.\n",
    "\t4\tWrite a function to check if a number is prime.\n",
    "\t5\tWrite a function to find the sum of digits of a number.\n",
    "\t6\tWrite a function to find the greatest common divisor (GCD) of two numbers.\n",
    "\t7\tWrite a function to find the least common multiple (LCM) of two numbers.\n",
    "\t8\tWrite a function to count the number of vowels in a given string.\n",
    "\t9\tImplement a function to convert Celsius to Fahrenheit.\n",
    "\t10\tImplement a function to convert Fahrenheit to Celsius."
   ]
  },
  {
   "cell_type": "markdown",
   "id": "a08471c5",
   "metadata": {},
   "source": [
    "## Intermediate ( ATTEMPT any 5 questions)"
   ]
  },
  {
   "cell_type": "markdown",
   "id": "9dc4d281",
   "metadata": {},
   "source": [
    "\t11\tWrite a function to reverse a string.\n",
    "\t12\tWrite a function to find the nth Fibonacci number (without recursion).\n",
    "\t13\tWrite a function to calculate the power of a number (x^y) using a loop.\n",
    "\t14\tImplement a function to check if a string is a palindrome.\n",
    "\t15\tWrite a function to find the median of a list.\n",
    "\t16\tWrite a function to return the first n prime numbers.\n",
    "\t17\tWrite a function to sort a list without using built-in sorting functions.\n",
    "\t18\tImplement a function to find the HCF of an array of numbers.\n",
    "\t19\tWrite a function to find the longest word in a given sentence.\n",
    "\t20\tImplement a function to find the most frequent element in a list."
   ]
  },
  {
   "cell_type": "markdown",
   "id": "17320398",
   "metadata": {},
   "source": [
    "# Recursion (20 Questions)"
   ]
  },
  {
   "cell_type": "markdown",
   "id": "6e4cd6cc",
   "metadata": {},
   "source": []
  },
  {
   "cell_type": "markdown",
   "id": "3bd1de81",
   "metadata": {},
   "source": [
    "## BASIC ( ATTEMPT ALL 10 QUESTIONS)"
   ]
  },
  {
   "cell_type": "markdown",
   "id": "d992df7c",
   "metadata": {},
   "source": [
    "\t1\tWrite a recursive function to find the factorial of a number.\n",
    "\t2\tWrite a recursive function to find the nth Fibonacci number.\n",
    "\t3\tImplement a recursive function to calculate the sum of digits of a number.\n",
    "\t4\tWrite a recursive function to find the greatest common divisor (GCD) of two numbers.\n",
    "\t5\tWrite a recursive function to find the length of a string.\n",
    "\t6\tImplement a recursive function to check if a string is a palindrome.\n",
    "\t7\tWrite a recursive function to print numbers from N to 1.\n",
    "\t8\tWrite a recursive function to find the sum of an array of numbers.\n",
    "\t9\tWrite a recursive function to find the power of a number (x^y).\n",
    "\t10\tWrite a recursive function to convert a decimal number to binary."
   ]
  },
  {
   "cell_type": "markdown",
   "id": "0c16500e",
   "metadata": {},
   "source": [
    "## INTERMEDIATE (ATTEMPT ANY 5 QUESTIONS)"
   ]
  },
  {
   "cell_type": "markdown",
   "id": "b9188678",
   "metadata": {},
   "source": [
    "\t11\tWrite a recursive function to find the maximum element in an array.\n",
    "\t12\tWrite a recursive function to reverse a string.\n",
    "\t13\tImplement a recursive function to calculate the product of two numbers.\n",
    "\t14\tWrite a recursive function to find the nth term in an arithmetic sequence.\n",
    "\t15\tWrite a recursive function to find the sum of the first N natural numbers.\n",
    "\t16\tImplement a recursive function to count the occurrences of a character in a string.\n",
    "\t17\tWrite a recursive function to print all subsets of a given set.\n",
    "\t18\tImplement a recursive function to generate all permutations of a string.\n",
    "\t19\tWrite a recursive function to check if an array is sorted.\n",
    "\t20\tWrite a recursive function to find the number of ways to climb N stairs (you can take 1 or 2 steps at a time)."
   ]
  },
  {
   "cell_type": "markdown",
   "id": "835cb73a",
   "metadata": {},
   "source": [
    "1\tWrite a program to find the largest element in an array."
   ]
  },
  {
   "cell_type": "code",
   "execution_count": 2,
   "id": "2e4582b6",
   "metadata": {},
   "outputs": [
    {
     "name": "stdout",
     "output_type": "stream",
     "text": [
      "maximum element:  5\n"
     ]
    }
   ],
   "source": [
    "import array as arr\n",
    "\n",
    "numbers = arr.array('i', [1, 2, 3, 4, 5])\n",
    "\n",
    "max_num = numbers[0]\n",
    "for i in range(1, len(numbers)):\n",
    "    max_num = max(max_num, numbers[i])\n",
    "print(\"maximum element: \", max_num)"
   ]
  },
  {
   "cell_type": "markdown",
   "id": "6bede94f",
   "metadata": {},
   "source": [
    "2\tWrite a program to find the smallest element in an array."
   ]
  },
  {
   "cell_type": "code",
   "execution_count": 3,
   "id": "17a5b8fe",
   "metadata": {},
   "outputs": [
    {
     "name": "stdout",
     "output_type": "stream",
     "text": [
      "minimum element:  1\n"
     ]
    }
   ],
   "source": [
    "import array as arr\n",
    "\n",
    "numbers = arr.array('i', [1, 2, 3, 4, 5])\n",
    "\n",
    "min_num = numbers[0]\n",
    "for i in range(1, len(numbers)):\n",
    "    min_num = min(min_num, numbers[i])\n",
    "print(\"minimum element: \", min_num)\n"
   ]
  },
  {
   "cell_type": "markdown",
   "id": "5be81761",
   "metadata": {},
   "source": [
    "3\tWrite a function to find the sum of all elements in an array."
   ]
  },
  {
   "cell_type": "code",
   "execution_count": 4,
   "id": "fa35f7cf",
   "metadata": {},
   "outputs": [
    {
     "name": "stdout",
     "output_type": "stream",
     "text": [
      "Sum of elements:  15\n"
     ]
    }
   ],
   "source": [
    "import array as arr\n",
    "\n",
    "numbers = arr.array('i', [1, 2, 3, 4, 5])\n",
    "\n",
    "sum_of_elems = numbers[0]\n",
    "\n",
    "for i in range(1, len(numbers)):\n",
    "    sum_of_elems += numbers[i]\n",
    "\n",
    "print(\"Sum of elements: \", sum_of_elems)"
   ]
  },
  {
   "cell_type": "markdown",
   "id": "6da2ab7c",
   "metadata": {},
   "source": [
    "4\tImplement a function to reverse an array in place."
   ]
  },
  {
   "cell_type": "code",
   "execution_count": 12,
   "id": "67ec80d7",
   "metadata": {},
   "outputs": [
    {
     "name": "stdout",
     "output_type": "stream",
     "text": [
      "array('i', [5, 4, 3, 2, 1])\n"
     ]
    }
   ],
   "source": [
    "import array as arr\n",
    "\n",
    "numbers = arr.array('i', [1, 2, 3, 4, 5])\n",
    "new_nums = arr.array('i', [])\n",
    "for num in reversed(numbers):\n",
    "    new_nums.append(num)\n",
    "\n",
    "print(new_nums)"
   ]
  },
  {
   "cell_type": "markdown",
   "id": "57900490",
   "metadata": {},
   "source": [
    "5 Find the second largest element in an array"
   ]
  },
  {
   "cell_type": "code",
   "execution_count": null,
   "id": "baa5a8e6",
   "metadata": {},
   "outputs": [
    {
     "name": "stdout",
     "output_type": "stream",
     "text": [
      "All elements in the array are equal\n"
     ]
    }
   ],
   "source": [
    "import array as arr\n",
    "\n",
    "numbers = arr.array('i', [7, 2, 9, 4, 5])\n",
    "numbers = sorted(numbers, reverse=True)\n",
    "max1 = numbers[0]\n",
    "max2 = None\n",
    "for i in range(1, len(numbers)):\n",
    "    if numbers[i] != max1:\n",
    "        max2 = numbers[i]\n",
    "        break\n",
    "\n",
    "if max2 is None:\n",
    "    print(\"All elements in the array are equal\")\n",
    "else:\n",
    "    print(\"second largest element: \", max2)"
   ]
  },
  {
   "cell_type": "markdown",
   "id": "d35e0668",
   "metadata": {},
   "source": [
    "6\tRemove duplicate elements from an array."
   ]
  },
  {
   "cell_type": "code",
   "execution_count": 11,
   "id": "6e80526d",
   "metadata": {},
   "outputs": [
    {
     "name": "stdout",
     "output_type": "stream",
     "text": [
      "array('i', [7, 2, 9, 4, 5])\n"
     ]
    }
   ],
   "source": [
    "import array as arr\n",
    "\n",
    "numbers = arr.array('i', [7, 2, 9, 4, 5, 7, 2, 9, 4, 5])\n",
    "\n",
    "nums_map = {}\n",
    "\n",
    "for num in numbers:\n",
    "    if num not in nums_map:\n",
    "        nums_map[num] = 1\n",
    "\n",
    "numbers = arr.array('i', nums_map.keys())\n",
    "print(numbers)"
   ]
  },
  {
   "cell_type": "markdown",
   "id": "9bf042e7",
   "metadata": {},
   "source": [
    "7\tFind the frequency of each element in an array."
   ]
  },
  {
   "cell_type": "code",
   "execution_count": 14,
   "id": "9b883b59",
   "metadata": {},
   "outputs": [
    {
     "name": "stdout",
     "output_type": "stream",
     "text": [
      "number: 7 frequency: 1\n",
      "number: 2 frequency: 2\n",
      "number: 9 frequency: 2\n",
      "number: 4 frequency: 2\n",
      "number: 5 frequency: 2\n"
     ]
    }
   ],
   "source": [
    "import array as arr\n",
    "\n",
    "numbers = arr.array('i', [7, 2, 9, 4, 5, 2, 9, 4, 5])\n",
    "\n",
    "nums_map = {}\n",
    "\n",
    "for num in numbers:\n",
    "    nums_map[num] = nums_map.get(num, 0) + 1\n",
    "\n",
    "for num, freq in nums_map.items():\n",
    "    print(f\"number: {num} frequency: {freq}\")\n"
   ]
  },
  {
   "cell_type": "markdown",
   "id": "e9af5c98",
   "metadata": {},
   "source": [
    "8\tFind the missing number in a list of integers from 1 to N."
   ]
  },
  {
   "cell_type": "code",
   "execution_count": 51,
   "id": "811dd04a",
   "metadata": {},
   "outputs": [
    {
     "name": "stdout",
     "output_type": "stream",
     "text": [
      "3\n"
     ]
    }
   ],
   "source": [
    "import array as arr\n",
    "\n",
    "def binary_insertion(n, nums):\n",
    "    left, right = 0, len(nums)\n",
    "    while left < right:\n",
    "        mid = (left + right) // 2\n",
    "        if nums[mid] < n:\n",
    "            left = mid + 1\n",
    "        else:\n",
    "            right = mid\n",
    "    return left\n",
    "\n",
    "\n",
    "numbers = arr.array('i', [1, 2, 5, 7, 9, 12])\n",
    "new_nums = arr.array('i', [])\n",
    "\n",
    "for num in numbers:\n",
    "    if num not in new_nums:\n",
    "        new_nums.insert(binary_insertion(num, numbers), num)\n",
    "\n",
    "missing = None\n",
    "for i in range(len(new_nums)):\n",
    "    if (i + 1) != new_nums[i]:\n",
    "        missing = i + 1\n",
    "        break\n",
    "\n",
    "print(missing)\n"
   ]
  },
  {
   "cell_type": "markdown",
   "id": "51566249",
   "metadata": {},
   "source": [
    "9\tRotate an array left by one position."
   ]
  },
  {
   "cell_type": "code",
   "execution_count": 52,
   "id": "9bd0cac3",
   "metadata": {},
   "outputs": [
    {
     "name": "stdout",
     "output_type": "stream",
     "text": [
      "array('i', [2, 5, 7, 9, 12, 1])\n"
     ]
    }
   ],
   "source": [
    "import array as arr\n",
    "\n",
    "numbers = arr.array('i', [1, 2, 5, 7, 9, 12])\n",
    "new_nums = arr.array('i', [0 for _ in range(len(numbers))])\n",
    "\n",
    "for i in range(len(numbers)):\n",
    "    new_nums[(len(numbers) + i - 1) % len(numbers)] = numbers[i]\n",
    "\n",
    "print(new_nums)"
   ]
  },
  {
   "cell_type": "markdown",
   "id": "8b473350",
   "metadata": {},
   "source": [
    "10\tRotate an array right by k positions."
   ]
  },
  {
   "cell_type": "code",
   "execution_count": 53,
   "id": "98eec6b0",
   "metadata": {},
   "outputs": [
    {
     "name": "stdout",
     "output_type": "stream",
     "text": [
      "array('i', [7, 9, 12, 1, 2, 5])\n"
     ]
    }
   ],
   "source": [
    "import array as arr\n",
    "\n",
    "numbers = arr.array('i', [1, 2, 5, 7, 9, 12])\n",
    "new_nums = arr.array('i', [0 for _ in range(len(numbers))])\n",
    "\n",
    "k = int(input(\"k: \"))\n",
    "\n",
    "for i in range(len(numbers)):\n",
    "    new_nums[(i + k) % len(numbers)] = numbers[i]\n",
    "\n",
    "print(new_nums)\n"
   ]
  },
  {
   "cell_type": "markdown",
   "id": "4b2bef11",
   "metadata": {},
   "source": [
    "11\tFind the intersection of two arrays."
   ]
  },
  {
   "cell_type": "code",
   "execution_count": null,
   "id": "fcaf1972",
   "metadata": {},
   "outputs": [
    {
     "name": "stdout",
     "output_type": "stream",
     "text": [
      "array('i', [2])\n"
     ]
    }
   ],
   "source": [
    "import array as arr\n",
    "\n",
    "nums1 = arr.array('i', [1, 2, 5, 7, 9, 12])\n",
    "nums2 = arr.array('i', [2, 4, 11, 34, 6, 20])\n",
    "\n",
    "set1 = set(nums1)\n",
    "set2 = set(nums2)\n",
    "\n",
    "intersection = arr.array('i', list(set1.intersection(set2)))\n",
    "print(intersection)"
   ]
  },
  {
   "cell_type": "markdown",
   "id": "ae0f3ea3",
   "metadata": {},
   "source": [
    "12\tFind the union of two arrays."
   ]
  },
  {
   "cell_type": "code",
   "execution_count": 57,
   "id": "152127a9",
   "metadata": {},
   "outputs": [
    {
     "name": "stdout",
     "output_type": "stream",
     "text": [
      "array('i', [1, 2, 34, 4, 5, 6, 7, 9, 11, 12, 20])\n"
     ]
    }
   ],
   "source": [
    "import array as arr\n",
    "\n",
    "nums1 = arr.array('i', [1, 2, 5, 7, 9, 12])\n",
    "nums2 = arr.array('i', [2, 4, 11, 34, 6, 20])\n",
    "\n",
    "set1 = set(nums1)\n",
    "set2 = set(nums2)\n",
    "\n",
    "union = arr.array('i', list(set1.union(set2)))\n",
    "print(union)"
   ]
  },
  {
   "cell_type": "markdown",
   "id": "9304e52f",
   "metadata": {},
   "source": [
    "13\tFind the maximum sum subarray using Kadane’s algorithm."
   ]
  },
  {
   "cell_type": "code",
   "execution_count": 61,
   "id": "7059815e",
   "metadata": {},
   "outputs": [
    {
     "name": "stdout",
     "output_type": "stream",
     "text": [
      "11\n"
     ]
    }
   ],
   "source": [
    "import array as arr\n",
    "\n",
    "nums = arr.array('i', [-7, 4, 2, 3, -8, 10])\n",
    "m = nums[0]\n",
    "res = nums[0]\n",
    "\n",
    "for i in range(1, len(nums)):\n",
    "    m = max(nums[i], m + nums[i])\n",
    "    res = max(res, m)\n",
    "\n",
    "print(res)"
   ]
  },
  {
   "cell_type": "markdown",
   "id": "2335c6df",
   "metadata": {},
   "source": [
    "14\tFind the first repeating element in an array."
   ]
  },
  {
   "cell_type": "code",
   "execution_count": null,
   "id": "6e99d6e6",
   "metadata": {},
   "outputs": [
    {
     "name": "stdout",
     "output_type": "stream",
     "text": [
      "repeating element:  None\n"
     ]
    }
   ],
   "source": [
    "import array as arr\n",
    "\n",
    "numbers = arr.array('i', [7, 2, 9, 4, 5, 2])\n",
    "\n",
    "nums_map = {}\n",
    "repeating_elem = None\n",
    "for num in numbers:\n",
    "    if num not in nums_map:\n",
    "        nums_map[num] = 1\n",
    "    else:\n",
    "        repeating_elem = num\n",
    "        break\n",
    "\n",
    "print(\"repeating element: \", repeating_elem)"
   ]
  },
  {
   "cell_type": "markdown",
   "id": "86d86432",
   "metadata": {},
   "source": [
    "15\tMove all zeros to the end of an array without changing the order of non-zero elements."
   ]
  },
  {
   "cell_type": "code",
   "execution_count": 65,
   "id": "8c2e1176",
   "metadata": {},
   "outputs": [
    {
     "name": "stdout",
     "output_type": "stream",
     "text": [
      "array('i', [7, 2, 9, 4, 5, 2, 0, 0, 0])\n"
     ]
    }
   ],
   "source": [
    "import array as arr\n",
    "\n",
    "numbers = arr.array('i', [7, 0, 2, 9, 0, 4, 5, 0, 2])\n",
    "\n",
    "number_of_zeroes = 0\n",
    "new_nums = arr.array('i', [])\n",
    "\n",
    "for num in numbers:\n",
    "    if num != 0:\n",
    "        new_nums.append(num)\n",
    "    else:\n",
    "        number_of_zeroes += 1\n",
    "\n",
    "new_nums += arr.array('i', [0 for _ in range(number_of_zeroes)])\n",
    "print(new_nums)"
   ]
  },
  {
   "cell_type": "markdown",
   "id": "a90ef268",
   "metadata": {},
   "source": [
    "16\tCheck if an array is sorted in ascending order."
   ]
  },
  {
   "cell_type": "code",
   "execution_count": null,
   "id": "fe496cf3",
   "metadata": {},
   "outputs": [
    {
     "name": "stdout",
     "output_type": "stream",
     "text": [
      "[0, 0, 0, 2, 2, 4, 5, 7, 9]\n",
      "In ascending order\n"
     ]
    }
   ],
   "source": [
    "import array as arr\n",
    "\n",
    "numbers = arr.array('i', [7, 0, 2, 9, 0, 4, 5, 0, 2])\n",
    "n = numbers[0]\n",
    "isAscending = True\n",
    "for i in range(1, len(numbers)):\n",
    "    if numbers[i] < n:\n",
    "        isAscending = False\n",
    "        print(\"Not in ascending order\")\n",
    "        break\n",
    "\n",
    "if isAscending:\n",
    "    print(\"In ascending order\")"
   ]
  },
  {
   "cell_type": "markdown",
   "id": "41e28445",
   "metadata": {},
   "source": [
    "17\tFind the common elements in three sorted arrays."
   ]
  },
  {
   "cell_type": "code",
   "execution_count": 73,
   "id": "f124725d",
   "metadata": {},
   "outputs": [
    {
     "name": "stdout",
     "output_type": "stream",
     "text": [
      "4\n",
      "7\n"
     ]
    }
   ],
   "source": [
    "import array as arr\n",
    "\n",
    "nums1 = arr.array('i', [7, 2, 9, 4, 5, 2])\n",
    "nums2 = arr.array('i', [3, 4, 7, 1, 11])\n",
    "nums3 = arr.array('i', [1, 2, 3, 4, 5, 6, 7])\n",
    "\n",
    "nums1 = arr.array('i', set(nums1))\n",
    "nums2 = arr.array('i', set(nums2))\n",
    "nums3 = arr.array('i', set(nums3))\n",
    "\n",
    "nums_map = {}\n",
    "\n",
    "n1 = len(nums1)\n",
    "n2 = len(nums2)\n",
    "n3 = len(nums3)\n",
    "n = max(n1, n2, n3)\n",
    "\n",
    "for i in range(n):\n",
    "    if i < n1:\n",
    "        nums_map[nums1[i]] = nums_map.get(nums1[i], 0) + 1\n",
    "    if i < n2:\n",
    "        nums_map[nums2[i]] = nums_map.get(nums2[i], 0) + 1\n",
    "    if i < n3:\n",
    "        nums_map[nums3[i]] = nums_map.get(nums3[i], 0) + 1\n",
    "\n",
    "for num, freq in nums_map.items():\n",
    "    if freq == 3:\n",
    "        print(num)\n"
   ]
  },
  {
   "cell_type": "markdown",
   "id": "2c7dae6d",
   "metadata": {},
   "source": [
    "18\tSort an array using the Bubble Sort algorithm."
   ]
  },
  {
   "cell_type": "code",
   "execution_count": 81,
   "id": "1fd6a875",
   "metadata": {},
   "outputs": [
    {
     "name": "stdout",
     "output_type": "stream",
     "text": [
      "array('i', [2, 2, 4, 5, 7, 9])\n"
     ]
    }
   ],
   "source": [
    "import array as arr\n",
    "\n",
    "nums = arr.array('i', [7, 2, 9, 4, 5, 2])\n",
    "n = len(nums)\n",
    "\n",
    "for i in range(n):\n",
    "    swapped = False\n",
    "    for j in range(n - i - 1):\n",
    "        if nums[j] > nums[j + 1]:\n",
    "            nums[j], nums[j + 1] = nums[j + 1], nums[j]\n",
    "            swapped = True\n",
    "    if (not swapped):\n",
    "        break\n",
    "print(nums)\n",
    "\n"
   ]
  },
  {
   "cell_type": "markdown",
   "id": "9517b47b",
   "metadata": {},
   "source": [
    "19\tSort an array using the Insertion Sort algorithm."
   ]
  },
  {
   "cell_type": "code",
   "execution_count": 82,
   "id": "5e6a1e33",
   "metadata": {},
   "outputs": [
    {
     "name": "stdout",
     "output_type": "stream",
     "text": [
      "array('i', [2, 2, 4, 5, 7, 9])\n"
     ]
    }
   ],
   "source": [
    "import array as arr\n",
    "\n",
    "nums = arr.array('i', [7, 2, 9, 4, 5, 2])\n",
    "n = len(nums)\n",
    "\n",
    "for i in range(1, n):\n",
    "    key = nums[i]\n",
    "    j = i - 1\n",
    "    while j >= 0 and key < nums[j]:\n",
    "        nums[j + 1] = nums[j]\n",
    "        j -= 1\n",
    "    nums[j + 1] = key\n",
    "print(nums)"
   ]
  },
  {
   "cell_type": "markdown",
   "id": "d5b8b57f",
   "metadata": {},
   "source": [
    "20\tFind the majority element (element appearing more than N/2 times in an array)."
   ]
  },
  {
   "cell_type": "code",
   "execution_count": 84,
   "id": "60366652",
   "metadata": {},
   "outputs": [
    {
     "name": "stdout",
     "output_type": "stream",
     "text": [
      "7\n"
     ]
    }
   ],
   "source": [
    "import array as arr\n",
    "\n",
    "nums = arr.array('i', [7, 2, 7, 7, 7, 2])\n",
    "nums_map = {}\n",
    "n = len(nums)\n",
    "\n",
    "for num in nums:\n",
    "    nums_map[num] = nums_map.get(num, 0) + 1\n",
    "\n",
    "for num, freq in nums_map.items():\n",
    "    if freq > (n / 2):\n",
    "        print(num)"
   ]
  },
  {
   "cell_type": "markdown",
   "id": "ec2285da",
   "metadata": {},
   "source": [
    "1\tWrite a function to check if a number is even or odd."
   ]
  },
  {
   "cell_type": "code",
   "execution_count": null,
   "id": "914c8882",
   "metadata": {},
   "outputs": [],
   "source": [
    "def is_even(n):\n",
    "    return n % 2 == 0\n"
   ]
  },
  {
   "cell_type": "markdown",
   "id": "deb0603c",
   "metadata": {},
   "source": [
    "2\tWrite a function to find the factorial of a given number."
   ]
  },
  {
   "cell_type": "code",
   "execution_count": null,
   "id": "59ac28ef",
   "metadata": {},
   "outputs": [
    {
     "name": "stdout",
     "output_type": "stream",
     "text": [
      "3628800\n"
     ]
    }
   ],
   "source": [
    "def factorial(n):\n",
    "    if n == 0 or n == 1:\n",
    "        return 1\n",
    "    return n * factorial(n - 1)\n"
   ]
  },
  {
   "cell_type": "markdown",
   "id": "73b5b31c",
   "metadata": {},
   "source": [
    "3\tImplement a function to find the maximum of three numbers."
   ]
  },
  {
   "cell_type": "code",
   "execution_count": null,
   "id": "a6a619cf",
   "metadata": {},
   "outputs": [
    {
     "name": "stdout",
     "output_type": "stream",
     "text": [
      "7\n"
     ]
    }
   ],
   "source": [
    "def find_max(a, b, c):\n",
    "    max = a\n",
    "    if b > max:\n",
    "        max = b\n",
    "    if c > max:\n",
    "        max = c\n",
    "    return max\n"
   ]
  },
  {
   "cell_type": "markdown",
   "id": "5a6d4f82",
   "metadata": {},
   "source": [
    "4\tWrite a function to check if a number is prime."
   ]
  },
  {
   "cell_type": "code",
   "execution_count": null,
   "id": "855ec156",
   "metadata": {},
   "outputs": [
    {
     "name": "stdout",
     "output_type": "stream",
     "text": [
      "True\n"
     ]
    }
   ],
   "source": [
    "def is_prime(n):\n",
    "    for i in range(2, n // 2 + 1):\n",
    "        if n % i == 0:\n",
    "            return False\n",
    "\n",
    "    return True\n"
   ]
  },
  {
   "cell_type": "markdown",
   "id": "4192f146",
   "metadata": {},
   "source": [
    "5\tWrite a function to find the sum of digits of a number."
   ]
  },
  {
   "cell_type": "code",
   "execution_count": null,
   "id": "dccf58df",
   "metadata": {},
   "outputs": [
    {
     "name": "stdout",
     "output_type": "stream",
     "text": [
      "12\n"
     ]
    }
   ],
   "source": [
    "def sum_of_digits(n):\n",
    "    s = 0\n",
    "    while n > 0:\n",
    "        s += n % 10\n",
    "        n = n // 10\n",
    "    return s\n"
   ]
  },
  {
   "cell_type": "markdown",
   "id": "ee966089",
   "metadata": {},
   "source": [
    "6\tWrite a function to find the greatest common divisor (GCD) of two numbers."
   ]
  },
  {
   "cell_type": "code",
   "execution_count": null,
   "id": "61ebf3b6",
   "metadata": {},
   "outputs": [
    {
     "name": "stdout",
     "output_type": "stream",
     "text": [
      "5\n"
     ]
    }
   ],
   "source": [
    "def gcd(a, b):\n",
    "    n = max(a, b)\n",
    "    gcd = 1\n",
    "    for i in range(2, n // 2 + 1):\n",
    "        if a % i == 0 and b % i == 0:\n",
    "            gcd = i\n",
    "    \n",
    "    return gcd\n"
   ]
  },
  {
   "cell_type": "markdown",
   "id": "09d56230",
   "metadata": {},
   "source": [
    "7\tWrite a function to find the least common multiple (LCM) of two numbers."
   ]
  },
  {
   "cell_type": "code",
   "execution_count": 117,
   "id": "d6c5da77",
   "metadata": {},
   "outputs": [
    {
     "name": "stdout",
     "output_type": "stream",
     "text": [
      "12.0\n"
     ]
    }
   ],
   "source": [
    "def gcd(a, b):\n",
    "    n = max(a, b)\n",
    "    gcd = 1\n",
    "    for i in range(2, n // 2 + 1):\n",
    "        if a % i == 0 and b % i == 0:\n",
    "            gcd = i\n",
    "    \n",
    "    return gcd\n",
    "\n",
    "def lcm(a, b):\n",
    "    return (a * b) / gcd(a, b)\n",
    "\n",
    "print(lcm(4, 6))\n"
   ]
  },
  {
   "cell_type": "markdown",
   "id": "0f5717d8",
   "metadata": {},
   "source": [
    "8\tWrite a function to count the number of vowels in a given string."
   ]
  },
  {
   "cell_type": "code",
   "execution_count": 122,
   "id": "bd7967ca",
   "metadata": {},
   "outputs": [
    {
     "name": "stdout",
     "output_type": "stream",
     "text": [
      "7\n"
     ]
    }
   ],
   "source": [
    "vowels = {\n",
    "    'a': 0,\n",
    "    'i': 0,\n",
    "    'o': 0,\n",
    "    'e': 0,\n",
    "    'u': 0,\n",
    "}\n",
    "\n",
    "s = input(\"String: \")\n",
    "\n",
    "for x in s:\n",
    "    if x.lower() in vowels:\n",
    "        vowels[x.lower()] += 1\n",
    "\n",
    "total_vowels = 0\n",
    "for freq in vowels.values():\n",
    "    total_vowels += freq\n",
    "\n",
    "print(total_vowels)"
   ]
  },
  {
   "cell_type": "markdown",
   "id": "85ead9a1",
   "metadata": {},
   "source": [
    "9\tImplement a function to convert Celsius to Fahrenheit."
   ]
  },
  {
   "cell_type": "code",
   "execution_count": null,
   "id": "5cdef394",
   "metadata": {},
   "outputs": [
    {
     "name": "stdout",
     "output_type": "stream",
     "text": [
      "-40\n"
     ]
    }
   ],
   "source": [
    "def celcius_to_farenheit(c):\n",
    "    return c * (9 / 5) + 32\n"
   ]
  },
  {
   "cell_type": "markdown",
   "id": "5c7a1a66",
   "metadata": {},
   "source": [
    "10\tImplement a function to convert Fahrenheit to Celsius."
   ]
  },
  {
   "cell_type": "code",
   "execution_count": null,
   "id": "7487de5d",
   "metadata": {},
   "outputs": [
    {
     "name": "stdout",
     "output_type": "stream",
     "text": [
      "40.0\n"
     ]
    }
   ],
   "source": [
    "def farenheit_to_celcius(f):\n",
    "    return (f - 32) * (5/9)\n"
   ]
  },
  {
   "cell_type": "markdown",
   "id": "380292f6",
   "metadata": {},
   "source": [
    "11\tWrite a function to reverse a string."
   ]
  },
  {
   "cell_type": "code",
   "execution_count": null,
   "id": "2505ec86",
   "metadata": {},
   "outputs": [
    {
     "name": "stdout",
     "output_type": "stream",
     "text": [
      "alawarupmar nasah\n"
     ]
    }
   ],
   "source": [
    "def reverse_string(s):\n",
    "    res = \"\"\n",
    "    for i in range(len(s) - 1, -1, -1):\n",
    "        res += s[i]\n",
    "\n",
    "    return res\n"
   ]
  },
  {
   "cell_type": "markdown",
   "id": "c8325695",
   "metadata": {},
   "source": [
    "12\tWrite a function to find the nth Fibonacci number (without recursion)."
   ]
  },
  {
   "cell_type": "code",
   "execution_count": null,
   "id": "37a1c28a",
   "metadata": {},
   "outputs": [
    {
     "name": "stdout",
     "output_type": "stream",
     "text": [
      "21\n"
     ]
    }
   ],
   "source": [
    "def fibonacci(n):\n",
    "    if n == 1:\n",
    "        return 0\n",
    "    if n == 2 or n == 3:\n",
    "        return 1\n",
    "\n",
    "    n1 = 0\n",
    "    n2 = 1\n",
    "    while n > 2:\n",
    "        n2 = n2 + n1\n",
    "        n1 = n2 - n1\n",
    "        n -= 1\n",
    "    return n2\n",
    "\n"
   ]
  },
  {
   "cell_type": "markdown",
   "id": "6e7b8cb6",
   "metadata": {},
   "source": [
    "13\tWrite a function to calculate the power of a number (x^y) using a loop."
   ]
  },
  {
   "cell_type": "code",
   "execution_count": null,
   "id": "d7e3f71d",
   "metadata": {},
   "outputs": [
    {
     "name": "stdout",
     "output_type": "stream",
     "text": [
      "38416\n"
     ]
    }
   ],
   "source": [
    "def raise_to(a, b):\n",
    "    p = 1\n",
    "    for i in range(b):\n",
    "        p *= a\n",
    "\n",
    "    return p\n"
   ]
  },
  {
   "cell_type": "markdown",
   "id": "cb3dfcfd",
   "metadata": {},
   "source": [
    "14\tImplement a function to check if a string is a palindrome."
   ]
  },
  {
   "cell_type": "code",
   "execution_count": 154,
   "id": "5b486e4a",
   "metadata": {},
   "outputs": [
    {
     "name": "stdout",
     "output_type": "stream",
     "text": [
      "True\n"
     ]
    }
   ],
   "source": [
    "def is_palindrome(s):\n",
    "    n = len(s) - 1\n",
    "    for i in range(len(s) // 2):\n",
    "        if s[i] != s[n]:\n",
    "            return False\n",
    "        n -= 1\n",
    "\n",
    "    return True\n",
    "\n",
    "print(is_palindrome(\"malayalam\"))"
   ]
  },
  {
   "cell_type": "markdown",
   "id": "e1e999be",
   "metadata": {},
   "source": [
    "15\tWrite a function to find the median of a list."
   ]
  },
  {
   "cell_type": "code",
   "execution_count": null,
   "id": "459e8da8",
   "metadata": {},
   "outputs": [
    {
     "name": "stdout",
     "output_type": "stream",
     "text": [
      "(2, 3)\n"
     ]
    }
   ],
   "source": [
    "def median(a):\n",
    "    n = len(a)\n",
    "    a.sort()\n",
    "    if n % 2 == 0:\n",
    "        return a[n//2 - 1], a[n//2]\n",
    "    else:\n",
    "        return a[n//2 - 1]\n",
    "    "
   ]
  },
  {
   "cell_type": "markdown",
   "id": "8546aef6",
   "metadata": {},
   "source": [
    "1\tWrite a recursive function to find the factorial of a number."
   ]
  },
  {
   "cell_type": "code",
   "execution_count": null,
   "id": "64b5d500",
   "metadata": {},
   "outputs": [
    {
     "name": "stdout",
     "output_type": "stream",
     "text": [
      "720\n"
     ]
    }
   ],
   "source": [
    "def factorial(n):\n",
    "    if n == 0 or n == 1:\n",
    "        return 1\n",
    "    return n * factorial(n - 1)\n"
   ]
  },
  {
   "cell_type": "markdown",
   "id": "04a32a37",
   "metadata": {},
   "source": [
    "2\tWrite a recursive function to find the nth Fibonacci number."
   ]
  },
  {
   "cell_type": "code",
   "execution_count": 161,
   "id": "2edaba92",
   "metadata": {},
   "outputs": [
    {
     "name": "stdout",
     "output_type": "stream",
     "text": [
      "21\n"
     ]
    }
   ],
   "source": [
    "def fibonacci(n):\n",
    "    if n == 1:\n",
    "        return 0\n",
    "    if n == 2 or n == 3:\n",
    "        return 1\n",
    "    return fibonacci(n - 1) + fibonacci(n - 2)\n",
    "\n",
    "print(fibonacci(9))"
   ]
  },
  {
   "cell_type": "markdown",
   "id": "c626ff06",
   "metadata": {},
   "source": [
    "3\tImplement a recursive function to calculate the sum of digits of a number."
   ]
  },
  {
   "cell_type": "code",
   "execution_count": null,
   "id": "9c591a90",
   "metadata": {},
   "outputs": [
    {
     "name": "stdout",
     "output_type": "stream",
     "text": [
      "10\n"
     ]
    }
   ],
   "source": [
    "def sum_of_digits(n):\n",
    "    if n == 0:\n",
    "        return 0\n",
    "    return (n % 10) + sum_of_digits(n // 10)\n"
   ]
  },
  {
   "cell_type": "markdown",
   "id": "fd4cd49d",
   "metadata": {},
   "source": [
    "4\tWrite a recursive function to find the greatest common divisor (GCD) of two numbers."
   ]
  },
  {
   "cell_type": "code",
   "execution_count": null,
   "id": "f41703df",
   "metadata": {},
   "outputs": [
    {
     "name": "stdout",
     "output_type": "stream",
     "text": [
      "5\n"
     ]
    }
   ],
   "source": [
    "def give_gcd(a, b, gcd=1, i=2):\n",
    "    n = max(a, b)\n",
    "    if (n // 2 + 1) == i:\n",
    "        return gcd\n",
    "    \n",
    "    if a % i == 0 and b % i == 0:\n",
    "        return give_gcd(a, b, i, i + 1)\n",
    "    else:\n",
    "        return give_gcd(a, b, gcd, i + 1)\n"
   ]
  },
  {
   "cell_type": "markdown",
   "id": "d9f8de20",
   "metadata": {},
   "source": [
    "5\tWrite a recursive function to find the length of a string."
   ]
  },
  {
   "cell_type": "code",
   "execution_count": null,
   "id": "a7df5dd1",
   "metadata": {},
   "outputs": [
    {
     "name": "stdout",
     "output_type": "stream",
     "text": [
      "9\n"
     ]
    }
   ],
   "source": [
    "def length_string(s, i=0):\n",
    "    if s[i:] == \"\":\n",
    "        return 0\n",
    "    return 1 + length_string(s, i + 1)\n"
   ]
  },
  {
   "cell_type": "markdown",
   "id": "c257afc4",
   "metadata": {},
   "source": [
    "6\tImplement a recursive function to check if a string is a palindrome."
   ]
  },
  {
   "cell_type": "code",
   "execution_count": null,
   "id": "0c26a19b",
   "metadata": {},
   "outputs": [
    {
     "name": "stdout",
     "output_type": "stream",
     "text": [
      "False\n"
     ]
    }
   ],
   "source": [
    "def is_palindrome(s, i=0):\n",
    "    if i == len(s):\n",
    "        return True\n",
    "    n = len(s) - 1 - i\n",
    "    return (s[i] == s[n]) and is_palindrome(s, i + 1)\n"
   ]
  },
  {
   "cell_type": "markdown",
   "id": "5f930ec5",
   "metadata": {},
   "source": [
    "7\tWrite a recursive function to print numbers from N to 1."
   ]
  },
  {
   "cell_type": "code",
   "execution_count": null,
   "id": "2eae72a3",
   "metadata": {},
   "outputs": [
    {
     "name": "stdout",
     "output_type": "stream",
     "text": [
      "2\n",
      "1\n"
     ]
    }
   ],
   "source": [
    "def print_1_to_n(n):\n",
    "    if n == 1:\n",
    "        print(\"1\")\n",
    "        return\n",
    "    print(n)\n",
    "    print_1_to_n(n - 1)"
   ]
  },
  {
   "cell_type": "markdown",
   "id": "109784cd",
   "metadata": {},
   "source": [
    "8\tWrite a recursive function to find the sum of an array of numbers."
   ]
  },
  {
   "cell_type": "code",
   "execution_count": null,
   "id": "3ec3c9c1",
   "metadata": {},
   "outputs": [
    {
     "name": "stdout",
     "output_type": "stream",
     "text": [
      "6\n"
     ]
    }
   ],
   "source": [
    "def sum_of_numbers(arr, i=0):\n",
    "    if i == len(arr):\n",
    "        return 0\n",
    "    return arr[i] + sum_of_numbers(arr, i + 1)\n"
   ]
  },
  {
   "cell_type": "markdown",
   "id": "72aef816",
   "metadata": {},
   "source": [
    "9\tWrite a recursive function to find the power of a number (x^y)."
   ]
  },
  {
   "cell_type": "code",
   "execution_count": null,
   "id": "56b29426",
   "metadata": {},
   "outputs": [
    {
     "name": "stdout",
     "output_type": "stream",
     "text": [
      "343\n"
     ]
    }
   ],
   "source": [
    "def raise_to(a, b):\n",
    "    if b == 0:\n",
    "        return 1\n",
    "    return a * raise_to(a, b - 1)\n"
   ]
  },
  {
   "cell_type": "markdown",
   "id": "d37611e1",
   "metadata": {},
   "source": [
    "10\tWrite a recursive function to convert a decimal number to binary."
   ]
  },
  {
   "cell_type": "code",
   "execution_count": null,
   "id": "1969ec78",
   "metadata": {},
   "outputs": [
    {
     "name": "stdout",
     "output_type": "stream",
     "text": [
      "10\n"
     ]
    }
   ],
   "source": [
    "def decimal_to_binary(n):\n",
    "    if n > 1:\n",
    "        return decimal_to_binary(n // 2) + str(n%2)\n",
    "    \n",
    "    return str(n%2)\n"
   ]
  },
  {
   "cell_type": "markdown",
   "id": "079d1362",
   "metadata": {},
   "source": [
    "11\tWrite a recursive function to find the maximum element in an array."
   ]
  },
  {
   "cell_type": "code",
   "execution_count": null,
   "id": "b7498294",
   "metadata": {},
   "outputs": [
    {
     "name": "stdout",
     "output_type": "stream",
     "text": [
      "100\n"
     ]
    }
   ],
   "source": [
    "def max_of_array(arr, i=0, res=0):\n",
    "    if i == len(arr):\n",
    "        return res\n",
    "    res = max(res, arr[i])\n",
    "    return max_of_array(arr, i + 1, res)\n"
   ]
  },
  {
   "cell_type": "markdown",
   "id": "cf51095e",
   "metadata": {},
   "source": [
    "12\tWrite a recursive function to reverse a string."
   ]
  },
  {
   "cell_type": "code",
   "execution_count": null,
   "id": "f2b3de1c",
   "metadata": {},
   "outputs": [
    {
     "name": "stdout",
     "output_type": "stream",
     "text": [
      "racecar\n"
     ]
    }
   ],
   "source": [
    "def reverse_string(s, i=0):\n",
    "    if i == len(s):\n",
    "        return \"\"\n",
    "    return s[len(s) - i - 1] + reverse_string(s, i + 1)\n",
    "\n"
   ]
  },
  {
   "cell_type": "markdown",
   "id": "e7ab4f97",
   "metadata": {},
   "source": [
    "13\tImplement a recursive function to calculate the product of two numbers."
   ]
  },
  {
   "cell_type": "code",
   "execution_count": null,
   "id": "90d86e94",
   "metadata": {},
   "outputs": [
    {
     "name": "stdout",
     "output_type": "stream",
     "text": [
      "500\n"
     ]
    }
   ],
   "source": [
    "def product(a, b):\n",
    "    if b == 0:\n",
    "        return b\n",
    "    return a + product(a, b - 1)\n"
   ]
  },
  {
   "cell_type": "markdown",
   "id": "de01c93d",
   "metadata": {},
   "source": [
    "14\tWrite a recursive function to find the nth term in an arithmetic sequence."
   ]
  },
  {
   "cell_type": "code",
   "execution_count": null,
   "id": "71362ab2",
   "metadata": {},
   "outputs": [
    {
     "name": "stdout",
     "output_type": "stream",
     "text": [
      "14\n"
     ]
    }
   ],
   "source": [
    "def arithmetic_sequence(a, d, n):\n",
    "    if n == 0 or n == 1:\n",
    "        return a\n",
    "    \n",
    "    return d + arithmetic_sequence(a, d, n-1)\n"
   ]
  },
  {
   "cell_type": "markdown",
   "id": "8311d671",
   "metadata": {},
   "source": [
    "15\tWrite a recursive function to find the sum of the first N natural numbers."
   ]
  },
  {
   "cell_type": "code",
   "execution_count": null,
   "id": "c3ea20db",
   "metadata": {},
   "outputs": [
    {
     "name": "stdout",
     "output_type": "stream",
     "text": [
      "15\n"
     ]
    }
   ],
   "source": [
    "def sum_of_first_n_natural_numbers(n):\n",
    "    if n == 0 or n == 1:\n",
    "        return n\n",
    "    return n + sum_of_first_n_natural_numbers(n-1)\n"
   ]
  }
 ],
 "metadata": {
  "colab": {
   "provenance": []
  },
  "kernelspec": {
   "display_name": "Python 3",
   "language": "python",
   "name": "python3"
  },
  "language_info": {
   "codemirror_mode": {
    "name": "ipython",
    "version": 3
   },
   "file_extension": ".py",
   "mimetype": "text/x-python",
   "name": "python",
   "nbconvert_exporter": "python",
   "pygments_lexer": "ipython3",
   "version": "3.13.2"
  }
 },
 "nbformat": 4,
 "nbformat_minor": 5
}
