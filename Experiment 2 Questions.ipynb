{
 "cells": [
  {
   "cell_type": "markdown",
   "id": "c06daef7",
   "metadata": {},
   "source": [
    "# Experiment Number 2:"
   ]
  },
  {
   "cell_type": "markdown",
   "id": "94839e60",
   "metadata": {},
   "source": [
    "#### **Name of the Student:** <span style=\"color:red\">XYZ</span>         \n",
    "#### **Roll Number:** <span style=\"color:red\">001</span>    \n",
    "#### **Class:** <span style=\"color:red\">SY Comps</span>\n",
    "### **Batch:** <span style=\"color:red\">C32</span>"
   ]
  },
  {
   "cell_type": "markdown",
   "id": "8514d1c9",
   "metadata": {},
   "source": [
    "## 1. Concatenate Two Strings"
   ]
  },
  {
   "cell_type": "code",
   "execution_count": 13,
   "id": "0d785405",
   "metadata": {},
   "outputs": [
    {
     "name": "stdout",
     "output_type": "stream",
     "text": [
      "Hello World\n"
     ]
    }
   ],
   "source": [
    "# Concatenate two strings\n",
    "def concatenate_strings(str1, str2):\n",
    "    return str1 + str2\n",
    "\n",
    "print(concatenate_strings(\"Hello\", \" World\"))"
   ]
  },
  {
   "cell_type": "markdown",
   "id": "8de6c580",
   "metadata": {},
   "source": [
    "## 2. Count Vowels and Consonants"
   ]
  },
  {
   "cell_type": "code",
   "execution_count": 14,
   "id": "4e92c7e2",
   "metadata": {},
   "outputs": [
    {
     "name": "stdout",
     "output_type": "stream",
     "text": [
      "(3, 7)\n"
     ]
    }
   ],
   "source": [
    "# Count vowels and consonants\n",
    "def count_vowels_consonants(string):\n",
    "    vowels = \"aeiou\"\n",
    "    vowels_count = sum(1 for char in string if char.lower() in vowels)\n",
    "    consonants_count = len([char for char in string if char.isalpha() and char.lower() not in vowels])\n",
    "    return vowels_count, consonants_count\n",
    "\n",
    "print(count_vowels_consonants(\"Hello World\"))\n",
    "  "
   ]
  },
  {
   "cell_type": "markdown",
   "id": "ffb973dc",
   "metadata": {},
   "source": [
    "## 3. Check if a String is a Palindrome"
   ]
  },
  {
   "cell_type": "code",
   "execution_count": 18,
   "id": "1a7a0ad2",
   "metadata": {},
   "outputs": [
    {
     "name": "stdout",
     "output_type": "stream",
     "text": [
      "False\n"
     ]
    }
   ],
   "source": [
    "\n",
    "# Check for palindrome\n",
    "def is_palindrome(string):\n",
    "    if string == string[::-1]:\n",
    "        return True \n",
    "    else:\n",
    "        return False \n",
    "    \n",
    "print(is_palindrome(\"faisal\"))\n"
   ]
  },
  {
   "cell_type": "markdown",
   "id": "4b6cbb32",
   "metadata": {},
   "source": [
    "## 4. Reverse a String Without Slicing"
   ]
  },
  {
   "cell_type": "code",
   "execution_count": 78,
   "id": "87fbb9c4",
   "metadata": {},
   "outputs": [
    {
     "name": "stdout",
     "output_type": "stream",
     "text": [
      "jar\n"
     ]
    }
   ],
   "source": [
    "\n",
    "# Reverse a string without slicing\n",
    "def reverse(string):\n",
    "    reverse_string =\"\"\n",
    "    for ch in string:\n",
    "        reverse_string = ch + reverse_string\n",
    "    return reverse_string\n",
    "\n",
    "print(reverse(\"raj\"))\n",
    "\n",
    "\n",
    "\n",
    "    "
   ]
  },
  {
   "cell_type": "markdown",
   "id": "84a15041",
   "metadata": {},
   "source": [
    "## 5. Find Frequency of Each Character"
   ]
  },
  {
   "cell_type": "code",
   "execution_count": 84,
   "id": "724df561",
   "metadata": {},
   "outputs": [
    {
     "name": "stdout",
     "output_type": "stream",
     "text": [
      "{'r': 1, 'a': 2, 'j': 1, 'e': 1, 's': 1, 'h': 1}\n",
      "{'r': 1, 'a': 2, 'j': 1, 'e': 1, 's': 1, 'h': 1}\n"
     ]
    }
   ],
   "source": [
    "\n",
    "# Character frequency\n",
    "from collections import Counter\n",
    "\n",
    "def frequency1(string):\n",
    "    freq = Counter(string)\n",
    "    return freq\n",
    "\n",
    "def frequency2(string):\n",
    "    freq = {}\n",
    "    for c in string:\n",
    "        if c in freq:\n",
    "            freq[c] += 1\n",
    "        else:\n",
    "            freq[c] = 1\n",
    "    \n",
    "    return freq\n",
    "\n",
    "print(dict(frequency1(\"raajesh\")))\n",
    "print(frequency2(\"raajesh\"))\n"
   ]
  },
  {
   "cell_type": "markdown",
   "id": "b4f3c937",
   "metadata": {},
   "source": [
    "## 6. Replace Substring"
   ]
  },
  {
   "cell_type": "code",
   "execution_count": 87,
   "id": "17015740",
   "metadata": {},
   "outputs": [
    {
     "name": "stdout",
     "output_type": "stream",
     "text": [
      "Hello Everyone\n"
     ]
    }
   ],
   "source": [
    "\n",
    "# Replace substring\n",
    "def replace_substring(string, old, new):\n",
    "    return string.replace(old, new)\n",
    "\n",
    "print(replace_substring(\"Hello World\", \"World\", \"Everyone\"))"
   ]
  },
  {
   "cell_type": "markdown",
   "id": "0a9df353",
   "metadata": {},
   "source": [
    "## 7. Check if String Starts and Ends with Specific Substring"
   ]
  },
  {
   "cell_type": "code",
   "execution_count": 88,
   "id": "1d537109",
   "metadata": {},
   "outputs": [
    {
     "name": "stdout",
     "output_type": "stream",
     "text": [
      "True\n"
     ]
    }
   ],
   "source": [
    "\n",
    "# Check if string starts and ends with a specific substring\n",
    "def check_start_end(string, start, end):\n",
    "    return string.startswith(start) and string.endswith(end)\n",
    "\n",
    "print(check_start_end(\"Hello World\", \"Hello\", \"World\"))\n",
    "    "
   ]
  },
  {
   "cell_type": "markdown",
   "id": "f9266a1d",
   "metadata": {},
   "source": [
    "## 8. Split and Join a String"
   ]
  },
  {
   "cell_type": "code",
   "execution_count": 94,
   "id": "fa77abfc",
   "metadata": {},
   "outputs": [
    {
     "name": "stdout",
     "output_type": "stream",
     "text": [
      "Ram-is-a-very-greate-person.\n"
     ]
    }
   ],
   "source": [
    "\n",
    "# Split and join a string\n",
    "def split_join(string):\n",
    "    word = string.split()\n",
    "    return '-'.join(word)\n",
    "\n",
    "print(split_join(\"Ram is a very greate person.\"))"
   ]
  },
  {
   "cell_type": "markdown",
   "id": "35f12997",
   "metadata": {},
   "source": [
    "## 9. Capitalize First Letter of Each Word"
   ]
  },
  {
   "cell_type": "code",
   "execution_count": 95,
   "id": "6a6443d6",
   "metadata": {},
   "outputs": [
    {
     "name": "stdout",
     "output_type": "stream",
     "text": [
      "Hello World\n"
     ]
    }
   ],
   "source": [
    "\n",
    "# Capitalize first letter of each word\n",
    "print(\"hello world\".title())\n",
    "    "
   ]
  },
  {
   "cell_type": "markdown",
   "id": "6c8eb6ce",
   "metadata": {},
   "source": [
    "## 10. Check if All Characters in a String are Alphanumeric"
   ]
  },
  {
   "cell_type": "code",
   "execution_count": 99,
   "id": "74b647ff",
   "metadata": {},
   "outputs": [
    {
     "name": "stdout",
     "output_type": "stream",
     "text": [
      "True\n"
     ]
    }
   ],
   "source": [
    "\n",
    "# Check if string is alphanumeric\n",
    "def is_alphanumeric(string):\n",
    "    return string.isalnum()\n",
    "\n",
    "print(is_alphanumeric(\"raju2\"))"
   ]
  },
  {
   "cell_type": "markdown",
   "id": "fb242e76",
   "metadata": {},
   "source": [
    "## 11. Check if String Contains Only Numeric Characters"
   ]
  },
  {
   "cell_type": "code",
   "execution_count": 101,
   "id": "0c8ba253",
   "metadata": {},
   "outputs": [
    {
     "name": "stdout",
     "output_type": "stream",
     "text": [
      "True\n"
     ]
    }
   ],
   "source": [
    "\n",
    "# Check if string is numeric\n",
    "\n",
    "print(\"123\".isnumeric())\n",
    "    "
   ]
  },
  {
   "cell_type": "markdown",
   "id": "e5202f1a",
   "metadata": {},
   "source": [
    "## 12. Find the Length of a String Without Using len()"
   ]
  },
  {
   "cell_type": "code",
   "execution_count": 103,
   "id": "3ab1918c",
   "metadata": {},
   "outputs": [
    {
     "name": "stdout",
     "output_type": "stream",
     "text": [
      "6\n"
     ]
    }
   ],
   "source": [
    "\n",
    "# Find length without len()\n",
    "def length(string):\n",
    "    count=0\n",
    "    for c in string:\n",
    "        count+=1\n",
    "    \n",
    "    return count\n",
    "    \n",
    "print(length(\"faisal\"))\n",
    "    "
   ]
  },
  {
   "cell_type": "markdown",
   "id": "ee1c445e",
   "metadata": {},
   "source": [
    "## 13. Remove All Special Characters from a String"
   ]
  },
  {
   "cell_type": "code",
   "execution_count": 106,
   "id": "90537e69",
   "metadata": {},
   "outputs": [
    {
     "name": "stdout",
     "output_type": "stream",
     "text": [
      "rajeshkumar\n"
     ]
    }
   ],
   "source": [
    "\n",
    "# Remove special characters\n",
    "import re\n",
    "def remove_special_characters(string):\n",
    "    return re.sub('[^A-Za-z0-9]+', '', string)\n",
    "\n",
    "print(remove_special_characters(\"rajesh@kumar\"))\n",
    "    "
   ]
  },
  {
   "cell_type": "markdown",
   "id": "ccf2bc27",
   "metadata": {},
   "source": [
    "## 14. Find All Substrings of a String"
   ]
  },
  {
   "cell_type": "code",
   "execution_count": 117,
   "id": "f0215ae4",
   "metadata": {},
   "outputs": [
    {
     "name": "stdout",
     "output_type": "stream",
     "text": [
      "['a', 'ab', 'abc', 'b', 'bc', 'c']\n"
     ]
    }
   ],
   "source": [
    "\n",
    "# Find all substrings\n",
    "def get_all_substrings(s):\n",
    "    substrings = []\n",
    "    length = len(s)\n",
    "    for i in range(length):\n",
    "        for j in range(i + 1, length + 1):\n",
    "            substrings.append(s[i:j])\n",
    "    return substrings\n",
    "\n",
    "# Function call\n",
    "print(get_all_substrings(\"abc\"))"
   ]
  },
  {
   "cell_type": "markdown",
   "id": "1400cdae",
   "metadata": {},
   "source": [
    "## 15. Sort Characters Alphabetically"
   ]
  },
  {
   "cell_type": "code",
   "execution_count": 124,
   "id": "2c741727",
   "metadata": {},
   "outputs": [
    {
     "name": "stdout",
     "output_type": "stream",
     "text": [
      "ehllo\n"
     ]
    }
   ],
   "source": [
    "\n",
    "# Sort characters alphabetically\n",
    "def sort_characters(string):\n",
    "    return \"\".join(sorted(string))\n",
    "\n",
    "print(sort_characters(\"hello\"))"
   ]
  },
  {
   "cell_type": "markdown",
   "id": "9e58e335",
   "metadata": {},
   "source": [
    "## 16. Remove Leading and Trailing Whitespaces"
   ]
  },
  {
   "cell_type": "code",
   "execution_count": 125,
   "id": "4fe996df",
   "metadata": {},
   "outputs": [
    {
     "name": "stdout",
     "output_type": "stream",
     "text": [
      "Hello World\n"
     ]
    }
   ],
   "source": [
    "\n",
    "# Remove leading and trailing whitespaces\n",
    "def remove_whitespaces(string):\n",
    "    return string.strip()\n",
    "\n",
    "print(remove_whitespaces(\"  Hello World  \"))\n"
   ]
  },
  {
   "cell_type": "markdown",
   "id": "a591f230",
   "metadata": {},
   "source": [
    "## 17. Count the Number of Words in a String"
   ]
  },
  {
   "cell_type": "code",
   "execution_count": 128,
   "id": "b772c077",
   "metadata": {},
   "outputs": [
    {
     "name": "stdout",
     "output_type": "stream",
     "text": [
      "2\n"
     ]
    }
   ],
   "source": [
    "\n",
    "# Count words in a string\n",
    "def count_words(string):\n",
    "    return len(string.split())\n",
    "\n",
    "print(count_words(\"hello world\"))"
   ]
  },
  {
   "cell_type": "markdown",
   "id": "4daa5e49",
   "metadata": {},
   "source": [
    "## 18. Find the First Non-Repeating Character in a String"
   ]
  },
  {
   "cell_type": "code",
   "execution_count": 136,
   "id": "6752597f",
   "metadata": {},
   "outputs": [
    {
     "name": "stdout",
     "output_type": "stream",
     "text": [
      "c\n"
     ]
    }
   ],
   "source": [
    "\n",
    "# First non-repeating character\n",
    "from collections import Counter \n",
    "\n",
    "def first_non_repeating(string):\n",
    "    counts = Counter(string)\n",
    "    for char in string:\n",
    "        if counts[char] == 1:\n",
    "            return char \n",
    "    return None\n",
    "\n",
    "print(first_non_repeating(\"aaabbcddde\"))\n",
    "    "
   ]
  },
  {
   "cell_type": "markdown",
   "id": "a3775301",
   "metadata": {},
   "source": [
    "## 19. Check if Two Strings are Anagrams"
   ]
  },
  {
   "cell_type": "code",
   "execution_count": 137,
   "id": "1790807e",
   "metadata": {},
   "outputs": [
    {
     "name": "stdout",
     "output_type": "stream",
     "text": [
      "True\n"
     ]
    }
   ],
   "source": [
    "\n",
    "# Check if two strings are anagrams\n",
    "def are_anagrams(str1, str2):\n",
    "    return sorted(str1) == sorted(str2)\n",
    "\n",
    "print(are_anagrams(\"listen\", \"silent\"))"
   ]
  },
  {
   "cell_type": "markdown",
   "id": "ab1a1e9c",
   "metadata": {},
   "source": [
    "## 20. Convert to Uppercase Without Using upper()"
   ]
  },
  {
   "cell_type": "code",
   "execution_count": 147,
   "id": "0d6b6399",
   "metadata": {},
   "outputs": [
    {
     "name": "stdout",
     "output_type": "stream",
     "text": [
      "HELLO\n"
     ]
    }
   ],
   "source": [
    "\n",
    "# Convert to uppercase without upper()\n",
    "\n",
    "def convert_upper(string):      \n",
    "    dict = {\n",
    "        'a': 'A', 'b': 'B', 'c': 'C', 'd': 'D', 'e': 'E', 'f': 'F', 'g': 'G', 'h': 'H', 'i': 'I',\n",
    "        'j': 'J', 'k': 'K', 'l': 'L', 'm': 'M', 'n': 'N', 'o': 'O', 'p': 'P', 'q': 'Q', 'r': 'R',\n",
    "        's': 'S', 't': 'T', 'u': 'U', 'v': 'V', 'w': 'W', 'x': 'X', 'y': 'Y', 'z': 'Z'\n",
    "    }\n",
    "    upper_string = \"\"\n",
    "    for s in string:\n",
    "        if s == s.upper():\n",
    "            upper_string +=s\n",
    "            continue\n",
    "        upper_string += dict[s]\n",
    "    return upper_string\n",
    "print(convert_upper(\"Hello\"))"
   ]
  },
  {
   "cell_type": "markdown",
   "id": "a6e4f585",
   "metadata": {},
   "source": [
    "## 21. Caesar Cipher"
   ]
  },
  {
   "cell_type": "code",
   "execution_count": 148,
   "id": "7522028a",
   "metadata": {},
   "outputs": [
    {
     "name": "stdout",
     "output_type": "stream",
     "text": [
      "Khoor, Zruog!\n"
     ]
    }
   ],
   "source": [
    "\n",
    "# Caesar cipher (shift by 3 positions)\n",
    "def caesar_cipher(text, shift):\n",
    "    result = \"\"\n",
    "    \n",
    "    # Loop through each character in the text\n",
    "    for char in text:\n",
    "        # Encrypt uppercase letters\n",
    "        if char.isupper():\n",
    "            result += chr((ord(char) + shift - 65) % 26 + 65)\n",
    "        # Encrypt lowercase letters\n",
    "        elif char.islower():\n",
    "            result += chr((ord(char) + shift - 97) % 26 + 97)\n",
    "        else:\n",
    "            # Non-alphabetic characters remain the same\n",
    "            result += char\n",
    "    \n",
    "    return result\n",
    "\n",
    "# Example\n",
    "encrypted_text = caesar_cipher(\"Hello, World!\", 3)\n",
    "print(encrypted_text)\n"
   ]
  },
  {
   "cell_type": "markdown",
   "id": "1790f6d2",
   "metadata": {},
   "source": [
    "## 22. Validate Email Address"
   ]
  },
  {
   "cell_type": "code",
   "execution_count": 151,
   "id": "0dde907a",
   "metadata": {},
   "outputs": [
    {
     "name": "stdout",
     "output_type": "stream",
     "text": [
      "Invalid Email\n",
      "Valid Email\n"
     ]
    }
   ],
   "source": [
    "\n",
    "# Check if email is valid\n",
    "regex = r'\\b[A-Za-z0-9._%+-]+@[A-Za-z0-9.-]+\\.[A-Z|a-z]{2,7}\\b'\n",
    "\n",
    "def check(email):\n",
    "\n",
    "    # pass the regular expression\n",
    "    # and the string into the fullmatch() method\n",
    "    if(re.fullmatch(regex, email)):\n",
    "        print(\"Valid Email\")\n",
    "\n",
    "    else:\n",
    "        print(\"Invalid Email\")\n",
    "    \n",
    "check(\"rajeshkumar\")\n",
    "check(\"rajeshkumar@gmail.com\")\n",
    "    "
   ]
  },
  {
   "cell_type": "markdown",
   "id": "accd712e",
   "metadata": {},
   "source": [
    "## 23. Find the Longest Word in a String"
   ]
  },
  {
   "cell_type": "code",
   "execution_count": 162,
   "id": "53a760cb",
   "metadata": {},
   "outputs": [
    {
     "name": "stdout",
     "output_type": "stream",
     "text": [
      "example\n"
     ]
    }
   ],
   "source": [
    "\n",
    "# Find longest word\n",
    "def longest_word(string):\n",
    "    words = string.split()\n",
    "    return max(words, key=len)\n",
    "\n",
    "print(longest_word(\"Hello World this is an example\"))"
   ]
  },
  {
   "cell_type": "markdown",
   "id": "00ab388b",
   "metadata": {},
   "source": [
    "## 24. Remove Duplicate Characters"
   ]
  },
  {
   "cell_type": "code",
   "execution_count": 164,
   "id": "d8303a2a",
   "metadata": {},
   "outputs": [
    {
     "name": "stdout",
     "output_type": "stream",
     "text": [
      "abc\n",
      "{'s', 'i', 'a', 'l', 'F'}\n"
     ]
    }
   ],
   "source": [
    "\n",
    "# Remove duplicate characters\n",
    "def remove_duplicates(string):\n",
    "    return ''.join(sorted(set(string), key=string.index))\n",
    "\n",
    "# Function call\n",
    "print(remove_duplicates(\"aabbcc\"))"
   ]
  },
  {
   "cell_type": "code",
   "execution_count": null,
   "id": "f4760aeb",
   "metadata": {},
   "outputs": [],
   "source": []
  },
  {
   "cell_type": "markdown",
   "id": "dea9b12b",
   "metadata": {},
   "source": [
    "## 25. Replace the nth Occurrence of a Substring"
   ]
  },
  {
   "cell_type": "code",
   "execution_count": 165,
   "id": "647f9a15",
   "metadata": {},
   "outputs": [
    {
     "name": "stdout",
     "output_type": "stream",
     "text": [
      "Hello hello hellohi\n"
     ]
    }
   ],
   "source": [
    "\n",
    "# Replace nth occurrence of a substring\n",
    "def replace_nth_occurrence(string, old, new, n):\n",
    "    parts = string.split(old)\n",
    "    if len(parts) > n:\n",
    "        parts[n] = new\n",
    "    return old.join(parts)\n",
    "\n",
    "print(replace_nth_occurrence(\"Hello hello hello\", \"hello\", \"hi\", 2))"
   ]
  },
  {
   "cell_type": "markdown",
   "id": "ffdc6f9d",
   "metadata": {},
   "source": [
    "## 26. Check if a String is a Valid URL"
   ]
  },
  {
   "cell_type": "code",
   "execution_count": 49,
   "id": "2b945106",
   "metadata": {},
   "outputs": [],
   "source": [
    "\n",
    "# Check if string is a valid URL\n"
   ]
  },
  {
   "cell_type": "markdown",
   "id": "5b9a1cd8",
   "metadata": {},
   "source": [
    "## 27. Convert String to Title Case Without title()"
   ]
  },
  {
   "cell_type": "code",
   "execution_count": 50,
   "id": "1bf5ad95",
   "metadata": {},
   "outputs": [],
   "source": [
    "\n",
    "# Convert string to title case without using title()\n"
   ]
  },
  {
   "cell_type": "markdown",
   "id": "404b32fe",
   "metadata": {},
   "source": [
    "## 28. Find the Index of the First Occurrence of a Substring"
   ]
  },
  {
   "cell_type": "code",
   "execution_count": 51,
   "id": "6f6b1cff",
   "metadata": {},
   "outputs": [],
   "source": [
    "\n",
    "# Find index of the first occurrence of a substring\n",
    "\n",
    "    "
   ]
  },
  {
   "cell_type": "markdown",
   "id": "6aab6d0f",
   "metadata": {},
   "source": [
    "## 29. Remove Duplicate Words from a String"
   ]
  },
  {
   "cell_type": "code",
   "execution_count": 52,
   "id": "405df0a9",
   "metadata": {},
   "outputs": [],
   "source": [
    "\n",
    "# Remove duplicate words\n"
   ]
  },
  {
   "cell_type": "markdown",
   "id": "78a515be",
   "metadata": {},
   "source": [
    "## 30. Extract Numbers from a String"
   ]
  },
  {
   "cell_type": "code",
   "execution_count": 53,
   "id": "0f396550",
   "metadata": {},
   "outputs": [],
   "source": [
    "\n",
    "# Extract numbers from a string\n",
    "\n",
    "    "
   ]
  },
  {
   "cell_type": "markdown",
   "id": "72c47f86",
   "metadata": {},
   "source": [
    "## 31. Count the Number of Lines in a Multiline String"
   ]
  },
  {
   "cell_type": "code",
   "execution_count": 54,
   "id": "91d9c545",
   "metadata": {},
   "outputs": [],
   "source": [
    "\n",
    "# Count lines in a multiline string\n",
    "\n",
    "    "
   ]
  },
  {
   "cell_type": "markdown",
   "id": "8f32352e",
   "metadata": {},
   "source": [
    "## 32. Rotate Characters in a String by n Positions"
   ]
  },
  {
   "cell_type": "code",
   "execution_count": 55,
   "id": "ad31fd7e",
   "metadata": {},
   "outputs": [],
   "source": [
    "\n",
    "# Rotate characters in a string\n"
   ]
  },
  {
   "cell_type": "markdown",
   "id": "53738cc9",
   "metadata": {},
   "source": [
    "## 33. Remove All Vowels from a String"
   ]
  },
  {
   "cell_type": "code",
   "execution_count": 56,
   "id": "038bd73c",
   "metadata": {},
   "outputs": [],
   "source": [
    "\n",
    "# Remove vowels from a string\n",
    "\n",
    "    "
   ]
  },
  {
   "cell_type": "markdown",
   "id": "2eab802b",
   "metadata": {},
   "source": [
    "## 34. Reverse Words in a Sentence"
   ]
  },
  {
   "cell_type": "code",
   "execution_count": 57,
   "id": "72c3a395",
   "metadata": {},
   "outputs": [],
   "source": [
    "\n",
    "# Reverse words in a sentence\n"
   ]
  },
  {
   "cell_type": "markdown",
   "id": "e5b4b856",
   "metadata": {},
   "source": [
    "## 35. Convert String to ASCII Values"
   ]
  },
  {
   "cell_type": "code",
   "execution_count": 58,
   "id": "aa92411b",
   "metadata": {},
   "outputs": [],
   "source": [
    "\n",
    "# Convert string to ASCII values\n",
    "\n",
    "    "
   ]
  },
  {
   "cell_type": "markdown",
   "id": "a2d61bb9",
   "metadata": {},
   "source": [
    "## 36. Check if a String Contains Only Uppercase Letters"
   ]
  },
  {
   "cell_type": "code",
   "execution_count": 59,
   "id": "502af3d7",
   "metadata": {},
   "outputs": [],
   "source": [
    "\n",
    "# Check if string is all uppercase\n",
    "\n",
    "    "
   ]
  },
  {
   "cell_type": "markdown",
   "id": "37fd7d29",
   "metadata": {},
   "source": [
    "## 37. Convert String to CamelCase"
   ]
  },
  {
   "cell_type": "code",
   "execution_count": 60,
   "id": "704dd123",
   "metadata": {},
   "outputs": [],
   "source": [
    "\n",
    "# Convert string to camel case\n"
   ]
  },
  {
   "cell_type": "markdown",
   "id": "5a9345ab",
   "metadata": {},
   "source": [
    "## 38. Find the Most Frequent Word in a String"
   ]
  },
  {
   "cell_type": "code",
   "execution_count": 61,
   "id": "82052d5c",
   "metadata": {},
   "outputs": [],
   "source": [
    "\n",
    "# Find the most frequent word\n",
    "\n",
    "    "
   ]
  },
  {
   "cell_type": "markdown",
   "id": "1bb2fdfb",
   "metadata": {},
   "source": [
    "## 39. Replace Every nth Character in a String"
   ]
  },
  {
   "cell_type": "code",
   "execution_count": 62,
   "id": "0d5336b0",
   "metadata": {},
   "outputs": [],
   "source": [
    "\n",
    "# Replace every nth character\n"
   ]
  },
  {
   "cell_type": "markdown",
   "id": "0fa7c992",
   "metadata": {},
   "source": [
    "## 40. Remove Duplicate Lines from a Multiline String"
   ]
  },
  {
   "cell_type": "code",
   "execution_count": 63,
   "id": "a48eb6af",
   "metadata": {},
   "outputs": [],
   "source": [
    "\n",
    "# Remove duplicate lines\n",
    "\n",
    "    "
   ]
  },
  {
   "cell_type": "markdown",
   "id": "fb75a45e",
   "metadata": {},
   "source": [
    "## 41. Find the Shortest Word in a String"
   ]
  },
  {
   "cell_type": "code",
   "execution_count": 64,
   "id": "098b6cdd",
   "metadata": {},
   "outputs": [],
   "source": [
    "\n",
    "# Find the shortest word\n"
   ]
  },
  {
   "cell_type": "markdown",
   "id": "b53d6117",
   "metadata": {},
   "source": [
    "## 42. Swap Case of All Characters in a String"
   ]
  },
  {
   "cell_type": "code",
   "execution_count": 65,
   "id": "6f076421",
   "metadata": {},
   "outputs": [],
   "source": [
    "\n",
    "# Swap case of all characters\n",
    "\n",
    "    "
   ]
  },
  {
   "cell_type": "markdown",
   "id": "87907569",
   "metadata": {},
   "source": [
    "## 43. Check if a String Contains Any Special Characters"
   ]
  },
  {
   "cell_type": "code",
   "execution_count": 66,
   "id": "910d37e6",
   "metadata": {},
   "outputs": [],
   "source": [
    "\n",
    "# Check for special characters\n",
    "\n",
    "    "
   ]
  },
  {
   "cell_type": "markdown",
   "id": "2a55343d",
   "metadata": {},
   "source": [
    "## 44. Count the Frequency of Each Word in a String"
   ]
  },
  {
   "cell_type": "code",
   "execution_count": 67,
   "id": "fbc783f2",
   "metadata": {},
   "outputs": [],
   "source": [
    "\n",
    "# Count word frequency\n",
    "\n",
    "    "
   ]
  },
  {
   "cell_type": "markdown",
   "id": "8b36b6a2",
   "metadata": {},
   "source": [
    "## 45. Pad a String with Leading Zeros"
   ]
  },
  {
   "cell_type": "code",
   "execution_count": 68,
   "id": "5339bd51",
   "metadata": {},
   "outputs": [],
   "source": [
    "\n",
    "# Pad string with leading zeros\n"
   ]
  },
  {
   "cell_type": "markdown",
   "id": "769caf5f",
   "metadata": {},
   "source": [
    "## 46. Find All Words Starting with a Specific Letter"
   ]
  },
  {
   "cell_type": "code",
   "execution_count": 69,
   "id": "86e6b5fc",
   "metadata": {},
   "outputs": [],
   "source": [
    "\n",
    "# Find words starting with a specific letter\n",
    "\n",
    "    "
   ]
  },
  {
   "cell_type": "markdown",
   "id": "8161708d",
   "metadata": {},
   "source": [
    "## 47. Convert String to Binary"
   ]
  },
  {
   "cell_type": "code",
   "execution_count": 70,
   "id": "46576d5a",
   "metadata": {},
   "outputs": [],
   "source": [
    "\n",
    "# Convert string to binary\n"
   ]
  },
  {
   "cell_type": "markdown",
   "id": "635a7cea",
   "metadata": {},
   "source": [
    "## 48. Check if a String is in Title Case"
   ]
  },
  {
   "cell_type": "code",
   "execution_count": 71,
   "id": "b162e022",
   "metadata": {},
   "outputs": [],
   "source": [
    "\n",
    "# Check if string is in title case\n",
    "\n",
    "    "
   ]
  },
  {
   "cell_type": "markdown",
   "id": "51eca5be",
   "metadata": {},
   "source": [
    "## 49. Find the Index of the Last Occurrence of a Substring"
   ]
  },
  {
   "cell_type": "code",
   "execution_count": 72,
   "id": "c137061e",
   "metadata": {},
   "outputs": [],
   "source": [
    "\n",
    "# Find index of last occurrence of a substring\n"
   ]
  },
  {
   "cell_type": "markdown",
   "id": "f486a509",
   "metadata": {},
   "source": [
    "## 50. Replace Digits with Their Word Equivalents"
   ]
  },
  {
   "cell_type": "code",
   "execution_count": 73,
   "id": "7a63a491",
   "metadata": {},
   "outputs": [],
   "source": [
    "\n",
    "# Replace digits with word equivalents\n"
   ]
  }
 ],
 "metadata": {
  "kernelspec": {
   "display_name": "Python 3",
   "language": "python",
   "name": "python3"
  },
  "language_info": {
   "codemirror_mode": {
    "name": "ipython",
    "version": 3
   },
   "file_extension": ".py",
   "mimetype": "text/x-python",
   "name": "python",
   "nbconvert_exporter": "python",
   "pygments_lexer": "ipython3",
   "version": "3.13.1"
  }
 },
 "nbformat": 4,
 "nbformat_minor": 5
}
