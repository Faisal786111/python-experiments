{
 "cells": [
  {
   "cell_type": "markdown",
   "id": "c06daef7",
   "metadata": {
    "id": "c06daef7"
   },
   "source": [
    "# Experiment Number 3:"
   ]
  },
  {
   "cell_type": "markdown",
   "id": "94839e60",
   "metadata": {
    "id": "94839e60"
   },
   "source": [
    "#### **Name of the Student:** <span style=\"color:red\">Khan Faisal</span>         \n",
    "#### **Roll Number:** <span style=\"color:red\">197</span>    \n",
    "#### **Class:** <span style=\"color:red\">SY Comps</span>\n",
    "### **Batch:** <span style=\"color:red\">C12</span>"
   ]
  },
  {
   "cell_type": "markdown",
   "id": "b2GcF3K_20ac",
   "metadata": {
    "id": "b2GcF3K_20ac"
   },
   "source": [
    "# **Lists**"
   ]
  },
  {
   "cell_type": "markdown",
   "id": "8514d1c9",
   "metadata": {
    "id": "8514d1c9"
   },
   "source": [
    "\n",
    "\n",
    "\n",
    "\n",
    "## Question 1. Create a list of integers and print it."
   ]
  },
  {
   "cell_type": "code",
   "execution_count": null,
   "id": "0d785405",
   "metadata": {
    "id": "0d785405"
   },
   "outputs": [],
   "source": [
    "a = [1, 2, 3, 4, 5]\n",
    "print(a)"
   ]
  },
  {
   "cell_type": "markdown",
   "id": "8de6c580",
   "metadata": {
    "id": "8de6c580"
   },
   "source": [
    "## Question 2: Add an element to a list."
   ]
  },
  {
   "cell_type": "code",
   "execution_count": null,
   "id": "4e92c7e2",
   "metadata": {
    "id": "4e92c7e2"
   },
   "outputs": [],
   "source": [
    "a = [1, 2, 3, 4, 5]\n",
    "print(a)\n",
    "a.append(6)\n",
    "print(a)"
   ]
  },
  {
   "cell_type": "markdown",
   "id": "ffb973dc",
   "metadata": {
    "id": "ffb973dc"
   },
   "source": [
    "## Question 3: Remove an element from a list."
   ]
  },
  {
   "cell_type": "code",
   "execution_count": 1,
   "id": "1a7a0ad2",
   "metadata": {
    "id": "1a7a0ad2"
   },
   "outputs": [
    {
     "name": "stdout",
     "output_type": "stream",
     "text": [
      "[1, 2, 3, 4, 5]\n",
      "[1, 2, 3, 4]\n"
     ]
    }
   ],
   "source": [
    "\n",
    "a = [1, 2, 3, 4, 5]\n",
    "print(a)\n",
    "a.remove(5)\n",
    "print(a)"
   ]
  },
  {
   "cell_type": "markdown",
   "id": "4b6cbb32",
   "metadata": {
    "id": "4b6cbb32"
   },
   "source": [
    "## Question 4: Sort a list in ascending order."
   ]
  },
  {
   "cell_type": "code",
   "execution_count": 2,
   "id": "87fbb9c4",
   "metadata": {
    "id": "87fbb9c4"
   },
   "outputs": [
    {
     "name": "stdout",
     "output_type": "stream",
     "text": [
      "[4, 2, 1, 3, 5]\n",
      "[1, 2, 3, 4, 5]\n"
     ]
    }
   ],
   "source": [
    "a = [4, 2, 1, 3, 5]\n",
    "print(a)\n",
    "a.sort()\n",
    "print(a)"
   ]
  },
  {
   "cell_type": "markdown",
   "id": "84a15041",
   "metadata": {
    "id": "84a15041"
   },
   "source": [
    "## Question 5: Reverse a list."
   ]
  },
  {
   "cell_type": "code",
   "execution_count": 3,
   "id": "724df561",
   "metadata": {
    "id": "724df561"
   },
   "outputs": [
    {
     "name": "stdout",
     "output_type": "stream",
     "text": [
      "[1, 2, 3, 4, 5]\n",
      "[5, 4, 3, 2, 1]\n"
     ]
    }
   ],
   "source": [
    "\n",
    "a = [1, 2, 3, 4, 5]\n",
    "print(a)\n",
    "a.reverse()\n",
    "print(a)"
   ]
  },
  {
   "cell_type": "markdown",
   "id": "b4f3c937",
   "metadata": {
    "id": "b4f3c937"
   },
   "source": [
    "## Question 6: Count occurrences of an element in a list."
   ]
  },
  {
   "cell_type": "code",
   "execution_count": 4,
   "id": "17015740",
   "metadata": {
    "id": "17015740"
   },
   "outputs": [
    {
     "name": "stdout",
     "output_type": "stream",
     "text": [
      "2\n"
     ]
    }
   ],
   "source": [
    "a = [1, 2, 2, 3, 4, 5]\n",
    "print(a.count(2))"
   ]
  },
  {
   "cell_type": "markdown",
   "id": "0a9df353",
   "metadata": {
    "id": "0a9df353"
   },
   "source": [
    "## Question 7: Find the index of an element in a list."
   ]
  },
  {
   "cell_type": "code",
   "execution_count": 5,
   "id": "1d537109",
   "metadata": {
    "id": "1d537109"
   },
   "outputs": [
    {
     "name": "stdout",
     "output_type": "stream",
     "text": [
      "2\n"
     ]
    }
   ],
   "source": [
    "a = [1, 2, 3, 4, 5]\n",
    "print(a.index(3))"
   ]
  },
  {
   "cell_type": "markdown",
   "id": "f9266a1d",
   "metadata": {
    "id": "f9266a1d"
   },
   "source": [
    "## Question 8: Create a list of squares using list comprehension."
   ]
  },
  {
   "cell_type": "code",
   "execution_count": 6,
   "id": "fa77abfc",
   "metadata": {
    "id": "fa77abfc"
   },
   "outputs": [
    {
     "name": "stdout",
     "output_type": "stream",
     "text": [
      "[0, 1, 4, 9, 16, 25, 36, 49, 64, 81]\n"
     ]
    }
   ],
   "source": [
    "a = [x**2 for x in range(10)]\n",
    "print(a)"
   ]
  },
  {
   "cell_type": "markdown",
   "id": "35f12997",
   "metadata": {
    "id": "35f12997"
   },
   "source": [
    "## Question 9: Merge two lists."
   ]
  },
  {
   "cell_type": "code",
   "execution_count": 7,
   "id": "6a6443d6",
   "metadata": {
    "id": "6a6443d6"
   },
   "outputs": [
    {
     "name": "stdout",
     "output_type": "stream",
     "text": [
      "[1, 2, 3, 4, 5, 6, 7, 8, 9, 10]\n"
     ]
    }
   ],
   "source": [
    "a = [1, 2, 3, 4, 5]\n",
    "b = [6, 7, 8, 9, 10]\n",
    "c = a + b\n",
    "print(c)"
   ]
  },
  {
   "cell_type": "markdown",
   "id": "6c8eb6ce",
   "metadata": {
    "id": "6c8eb6ce"
   },
   "source": [
    "## Question 10: Remove all elements from a list."
   ]
  },
  {
   "cell_type": "code",
   "execution_count": 8,
   "id": "74b647ff",
   "metadata": {
    "id": "74b647ff"
   },
   "outputs": [
    {
     "name": "stdout",
     "output_type": "stream",
     "text": [
      "[1, 2, 3, 4, 5]\n",
      "[]\n"
     ]
    }
   ],
   "source": [
    "a = [1, 2, 3, 4, 5]\n",
    "print(a)\n",
    "a.clear()\n",
    "print(a)"
   ]
  },
  {
   "cell_type": "markdown",
   "id": "fb242e76",
   "metadata": {
    "id": "fb242e76"
   },
   "source": [
    "## Question 11: Copy a list."
   ]
  },
  {
   "cell_type": "code",
   "execution_count": 9,
   "id": "0c8ba253",
   "metadata": {
    "id": "0c8ba253"
   },
   "outputs": [
    {
     "name": "stdout",
     "output_type": "stream",
     "text": [
      "[1, 2, 3, 4, 5]\n"
     ]
    }
   ],
   "source": [
    "a = [1, 2, 3, 4, 5]\n",
    "b = a.copy()\n",
    "print(b)"
   ]
  },
  {
   "cell_type": "markdown",
   "id": "e5202f1a",
   "metadata": {
    "id": "e5202f1a"
   },
   "source": [
    "## Question 12: Find the length of a list."
   ]
  },
  {
   "cell_type": "code",
   "execution_count": 10,
   "id": "3ab1918c",
   "metadata": {
    "id": "3ab1918c"
   },
   "outputs": [
    {
     "name": "stdout",
     "output_type": "stream",
     "text": [
      "length of the list:  5\n"
     ]
    }
   ],
   "source": [
    "a = [1, 2, 3, 4, 5]\n",
    "print(\"length of the list: \", len(a))"
   ]
  },
  {
   "cell_type": "markdown",
   "id": "ee1c445e",
   "metadata": {
    "id": "ee1c445e"
   },
   "source": [
    "## Question 13: Filter even numbers from a list."
   ]
  },
  {
   "cell_type": "code",
   "execution_count": 12,
   "id": "90537e69",
   "metadata": {
    "id": "90537e69"
   },
   "outputs": [
    {
     "name": "stdout",
     "output_type": "stream",
     "text": [
      "[2, 4]\n"
     ]
    }
   ],
   "source": [
    "a = [1, 2, 3, 4, 5]\n",
    "res = list(filter(lambda num: num % 2 == 0, a))\n",
    "print(res)"
   ]
  },
  {
   "cell_type": "markdown",
   "id": "ccf2bc27",
   "metadata": {
    "id": "ccf2bc27"
   },
   "source": [
    "## Question 14: Add multiple elements to a list."
   ]
  },
  {
   "cell_type": "code",
   "execution_count": 14,
   "id": "f0215ae4",
   "metadata": {
    "id": "f0215ae4"
   },
   "outputs": [
    {
     "name": "stdout",
     "output_type": "stream",
     "text": [
      "[1, 2, 3, 4, 5, 6, 7, 8]\n"
     ]
    }
   ],
   "source": [
    "a = [1, 2, 3, 4, 5]\n",
    "b = [6, 7, 8]\n",
    "a.extend(b)\n",
    "print(a)"
   ]
  },
  {
   "cell_type": "markdown",
   "id": "1400cdae",
   "metadata": {
    "id": "1400cdae"
   },
   "source": [
    "## Question 15: Multiply all elements in a list by 2."
   ]
  },
  {
   "cell_type": "code",
   "execution_count": 17,
   "id": "2c741727",
   "metadata": {
    "id": "2c741727"
   },
   "outputs": [
    {
     "name": "stdout",
     "output_type": "stream",
     "text": [
      "[2, 4, 6, 8, 10]\n"
     ]
    }
   ],
   "source": [
    "a = [1, 2, 3, 4, 5]\n",
    "for i in range(len(a)):\n",
    "    a[i] *= 2\n",
    "print(a)"
   ]
  },
  {
   "cell_type": "markdown",
   "id": "9e58e335",
   "metadata": {
    "id": "9e58e335"
   },
   "source": [
    "## Question 16: Remove duplicates from a list."
   ]
  },
  {
   "cell_type": "code",
   "execution_count": 18,
   "id": "4fe996df",
   "metadata": {
    "id": "4fe996df"
   },
   "outputs": [
    {
     "name": "stdout",
     "output_type": "stream",
     "text": [
      "[1, 2, 3, 4, 5]\n"
     ]
    }
   ],
   "source": [
    "a = [1, 2, 2, 3, 3, 4, 4, 5]\n",
    "num_map = {}\n",
    "\n",
    "for num in a:\n",
    "    if num not in num_map:\n",
    "        num_map[num] = 0\n",
    "\n",
    "\n",
    "res = list(num_map.keys())\n",
    "print(res)"
   ]
  },
  {
   "cell_type": "markdown",
   "id": "a591f230",
   "metadata": {
    "id": "a591f230"
   },
   "source": [
    "## Question 17: Slice a list to get the first 3 elements."
   ]
  },
  {
   "cell_type": "code",
   "execution_count": 19,
   "id": "b772c077",
   "metadata": {
    "id": "b772c077"
   },
   "outputs": [
    {
     "name": "stdout",
     "output_type": "stream",
     "text": [
      "[1, 2, 3]\n"
     ]
    }
   ],
   "source": [
    "a = [1, 2, 3, 4, 5]\n",
    "\n",
    "b = a[:3]\n",
    "print(b)"
   ]
  },
  {
   "cell_type": "markdown",
   "id": "4daa5e49",
   "metadata": {
    "id": "4daa5e49"
   },
   "source": [
    "## Question 18: Create a nested list and access an element."
   ]
  },
  {
   "cell_type": "code",
   "execution_count": 20,
   "id": "6752597f",
   "metadata": {
    "id": "6752597f"
   },
   "outputs": [
    {
     "name": "stdout",
     "output_type": "stream",
     "text": [
      "1\n",
      "5\n",
      "9\n"
     ]
    }
   ],
   "source": [
    "a = [[1, 2, 3], [4, 5, 6], [7, 8, 9]]\n",
    "\n",
    "#Prints diagonal elements\n",
    "for i in range(len(a)):\n",
    "    print(a[i][i])"
   ]
  },
  {
   "cell_type": "markdown",
   "id": "a3775301",
   "metadata": {
    "id": "a3775301"
   },
   "source": [
    "## Question 19: Use the zip function to pair elements from two lists."
   ]
  },
  {
   "cell_type": "code",
   "execution_count": 21,
   "id": "1790807e",
   "metadata": {
    "id": "1790807e"
   },
   "outputs": [
    {
     "name": "stdout",
     "output_type": "stream",
     "text": [
      "[(1, 4), (2, 5), (3, 6)]\n"
     ]
    }
   ],
   "source": [
    "a = [1, 2, 3]\n",
    "b = [4, 5, 6]\n",
    "c = list(zip(a, b))\n",
    "print(c)"
   ]
  },
  {
   "cell_type": "markdown",
   "id": "ab1a1e9c",
   "metadata": {
    "id": "ab1a1e9c"
   },
   "source": [
    "## Question 20: Find the max and min in a list."
   ]
  },
  {
   "cell_type": "code",
   "execution_count": 22,
   "id": "0d6b6399",
   "metadata": {
    "id": "0d6b6399"
   },
   "outputs": [
    {
     "name": "stdout",
     "output_type": "stream",
     "text": [
      "9\n",
      "0\n"
     ]
    }
   ],
   "source": [
    "a = [x for x in range(10)]\n",
    "print(max(a))\n",
    "print(min(a))"
   ]
  },
  {
   "cell_type": "markdown",
   "id": "4Z_84Rfu82q4",
   "metadata": {
    "id": "4Z_84Rfu82q4"
   },
   "source": [
    "# **Tuples**"
   ]
  },
  {
   "cell_type": "markdown",
   "id": "a6e4f585",
   "metadata": {
    "id": "a6e4f585"
   },
   "source": [
    "## Question 21: Create a tuple and print it."
   ]
  },
  {
   "cell_type": "code",
   "execution_count": 23,
   "id": "7522028a",
   "metadata": {
    "id": "7522028a"
   },
   "outputs": [
    {
     "name": "stdout",
     "output_type": "stream",
     "text": [
      "(1, 2)\n"
     ]
    }
   ],
   "source": [
    "a = (1, 2)\n",
    "print(a)"
   ]
  },
  {
   "cell_type": "markdown",
   "id": "1790f6d2",
   "metadata": {
    "id": "1790f6d2"
   },
   "source": [
    "## Question 22: Access elements of a tuple using indexing."
   ]
  },
  {
   "cell_type": "code",
   "execution_count": 24,
   "id": "0dde907a",
   "metadata": {
    "id": "0dde907a"
   },
   "outputs": [
    {
     "name": "stdout",
     "output_type": "stream",
     "text": [
      "3\n"
     ]
    }
   ],
   "source": [
    "a = (1, 2, 3)\n",
    "print(a[2])"
   ]
  },
  {
   "cell_type": "markdown",
   "id": "accd712e",
   "metadata": {
    "id": "accd712e"
   },
   "source": [
    "## Question 23: Count occurrences of an element in a tuple."
   ]
  },
  {
   "cell_type": "code",
   "execution_count": 25,
   "id": "53a760cb",
   "metadata": {
    "id": "53a760cb"
   },
   "outputs": [
    {
     "name": "stdout",
     "output_type": "stream",
     "text": [
      "2\n"
     ]
    }
   ],
   "source": [
    "a = (1, 2, 2, 3)\n",
    "print(a.count(2))"
   ]
  },
  {
   "cell_type": "markdown",
   "id": "00ab388b",
   "metadata": {
    "id": "00ab388b"
   },
   "source": [
    "## Question 24: Find the index of an element in a tuple."
   ]
  },
  {
   "cell_type": "code",
   "execution_count": 26,
   "id": "d8303a2a",
   "metadata": {
    "id": "d8303a2a"
   },
   "outputs": [
    {
     "name": "stdout",
     "output_type": "stream",
     "text": [
      "1\n"
     ]
    }
   ],
   "source": [
    "a = (1, 2, 2, 3)\n",
    "print(a.index(2))"
   ]
  },
  {
   "cell_type": "markdown",
   "id": "dea9b12b",
   "metadata": {
    "id": "dea9b12b"
   },
   "source": [
    "## Question 25: Convert a tuple to a list."
   ]
  },
  {
   "cell_type": "code",
   "execution_count": 27,
   "id": "647f9a15",
   "metadata": {
    "id": "647f9a15"
   },
   "outputs": [
    {
     "name": "stdout",
     "output_type": "stream",
     "text": [
      "<class 'list'>\n"
     ]
    }
   ],
   "source": [
    "a = (1, 2, 2, 3)\n",
    "b = list(a)\n",
    "print(type(b))"
   ]
  },
  {
   "cell_type": "markdown",
   "id": "ffdc6f9d",
   "metadata": {
    "id": "ffdc6f9d"
   },
   "source": [
    "## Question 26: Check if an element exists in a tuple."
   ]
  },
  {
   "cell_type": "code",
   "execution_count": 28,
   "id": "2b945106",
   "metadata": {
    "id": "2b945106"
   },
   "outputs": [
    {
     "name": "stdout",
     "output_type": "stream",
     "text": [
      "True\n",
      "False\n"
     ]
    }
   ],
   "source": [
    "a = (1, 2, 2, 3)\n",
    "\n",
    "print(1 in a )\n",
    "print(4 in a )"
   ]
  },
  {
   "cell_type": "markdown",
   "id": "5b9a1cd8",
   "metadata": {
    "id": "5b9a1cd8"
   },
   "source": [
    "## Question 27: Slice a tuple."
   ]
  },
  {
   "cell_type": "code",
   "execution_count": 29,
   "id": "1bf5ad95",
   "metadata": {
    "id": "1bf5ad95"
   },
   "outputs": [
    {
     "name": "stdout",
     "output_type": "stream",
     "text": [
      "(1, 2)\n"
     ]
    }
   ],
   "source": [
    "a = (1, 2, 2, 3)\n",
    "print(a[:2])"
   ]
  },
  {
   "cell_type": "markdown",
   "id": "404b32fe",
   "metadata": {
    "id": "404b32fe"
   },
   "source": [
    "## Question 28: Create a nested tuple and access its elements."
   ]
  },
  {
   "cell_type": "code",
   "execution_count": 30,
   "id": "6f6b1cff",
   "metadata": {
    "id": "6f6b1cff"
   },
   "outputs": [
    {
     "name": "stdout",
     "output_type": "stream",
     "text": [
      "4\n"
     ]
    }
   ],
   "source": [
    "a = ((1, 2), (3, 4), (5, 6))\n",
    "print(a[1][1])"
   ]
  },
  {
   "cell_type": "markdown",
   "id": "6aab6d0f",
   "metadata": {
    "id": "6aab6d0f"
   },
   "source": [
    "## Question 29: Find the length of a tuple."
   ]
  },
  {
   "cell_type": "code",
   "execution_count": 31,
   "id": "405df0a9",
   "metadata": {
    "id": "405df0a9"
   },
   "outputs": [
    {
     "name": "stdout",
     "output_type": "stream",
     "text": [
      "4\n"
     ]
    }
   ],
   "source": [
    "a = (1, 2, 3, 4)\n",
    "print(len(a))"
   ]
  },
  {
   "cell_type": "markdown",
   "id": "78a515be",
   "metadata": {
    "id": "78a515be"
   },
   "source": [
    "## Question 30: Create a tuple of mixed data types."
   ]
  },
  {
   "cell_type": "code",
   "execution_count": 1,
   "id": "0f396550",
   "metadata": {
    "id": "0f396550"
   },
   "outputs": [
    {
     "name": "stdout",
     "output_type": "stream",
     "text": [
      "(1, 'raki')\n"
     ]
    }
   ],
   "source": [
    "a = (1, \"raki\")\n",
    "print(a)"
   ]
  },
  {
   "cell_type": "markdown",
   "id": "72c47f86",
   "metadata": {
    "id": "72c47f86"
   },
   "source": [
    "## Question 31: Create a tuple with a single element and verify its type."
   ]
  },
  {
   "cell_type": "code",
   "execution_count": 34,
   "id": "91d9c545",
   "metadata": {
    "id": "91d9c545"
   },
   "outputs": [
    {
     "name": "stdout",
     "output_type": "stream",
     "text": [
      "<class 'tuple'>\n",
      "<class 'int'>\n"
     ]
    }
   ],
   "source": [
    "a = (1,)\n",
    "print(type(a))\n",
    "print(type(a[0]))"
   ]
  },
  {
   "cell_type": "markdown",
   "id": "8f32352e",
   "metadata": {
    "id": "8f32352e"
   },
   "source": [
    "## Question 32: Iterate through a tuple using a loop."
   ]
  },
  {
   "cell_type": "code",
   "execution_count": 35,
   "id": "ad31fd7e",
   "metadata": {
    "id": "ad31fd7e"
   },
   "outputs": [
    {
     "name": "stdout",
     "output_type": "stream",
     "text": [
      "1\n",
      "2\n",
      "3\n",
      "4\n",
      "5\n"
     ]
    }
   ],
   "source": [
    "a = (1, 2, 3, 4, 5)\n",
    "for x in a:\n",
    "    print(x)"
   ]
  },
  {
   "cell_type": "markdown",
   "id": "53738cc9",
   "metadata": {
    "id": "53738cc9"
   },
   "source": [
    "## Question 33: Concatenate two tuples."
   ]
  },
  {
   "cell_type": "code",
   "execution_count": 36,
   "id": "038bd73c",
   "metadata": {
    "id": "038bd73c"
   },
   "outputs": [
    {
     "name": "stdout",
     "output_type": "stream",
     "text": [
      "(1, 2, 3, 4, 5, 6, 7, 8)\n"
     ]
    }
   ],
   "source": [
    "a = (1, 2, 3, 4)\n",
    "b = (5, 6, 7, 8)\n",
    "c = a + b\n",
    "print(c)"
   ]
  },
  {
   "cell_type": "markdown",
   "id": "2eab802b",
   "metadata": {
    "id": "2eab802b"
   },
   "source": [
    "## Question 34: Repeat elements of a tuple."
   ]
  },
  {
   "cell_type": "code",
   "execution_count": 37,
   "id": "72c3a395",
   "metadata": {
    "id": "72c3a395"
   },
   "outputs": [
    {
     "name": "stdout",
     "output_type": "stream",
     "text": [
      "(1, 2, 2, 3, 4)\n"
     ]
    }
   ],
   "source": [
    "a = (1, 2, 2, 3, 4)\n",
    "print(a)"
   ]
  },
  {
   "cell_type": "markdown",
   "id": "e5b4b856",
   "metadata": {
    "id": "e5b4b856"
   },
   "source": [
    "## Question 35: Unpack a tuple into variables."
   ]
  },
  {
   "cell_type": "code",
   "execution_count": 38,
   "id": "aa92411b",
   "metadata": {
    "id": "aa92411b"
   },
   "outputs": [
    {
     "name": "stdout",
     "output_type": "stream",
     "text": [
      "1\n",
      "2\n"
     ]
    }
   ],
   "source": [
    "a = (1, 2)\n",
    "b, c = a\n",
    "print(b)\n",
    "print(c)"
   ]
  },
  {
   "cell_type": "markdown",
   "id": "C5D46vy58uCb",
   "metadata": {
    "id": "C5D46vy58uCb"
   },
   "source": [
    "# **Dictionary**"
   ]
  },
  {
   "cell_type": "markdown",
   "id": "a2d61bb9",
   "metadata": {
    "id": "a2d61bb9"
   },
   "source": [
    "## Question 36: Create a dictionary and print it."
   ]
  },
  {
   "cell_type": "code",
   "execution_count": 39,
   "id": "502af3d7",
   "metadata": {
    "id": "502af3d7"
   },
   "outputs": [
    {
     "name": "stdout",
     "output_type": "stream",
     "text": [
      "{'a': 1, 'e': 2, 'i': 3, 'o': 4, 'u': 5}\n"
     ]
    }
   ],
   "source": [
    "a = {\n",
    "    'a': 1,\n",
    "    'e': 2,\n",
    "    'i': 3,\n",
    "    'o': 4,\n",
    "    'u': 5,\n",
    "}\n",
    "print(a)"
   ]
  },
  {
   "cell_type": "markdown",
   "id": "37fd7d29",
   "metadata": {
    "id": "37fd7d29"
   },
   "source": [
    "## Question 37: Access a value by its key."
   ]
  },
  {
   "cell_type": "code",
   "execution_count": 40,
   "id": "704dd123",
   "metadata": {
    "id": "704dd123"
   },
   "outputs": [
    {
     "name": "stdout",
     "output_type": "stream",
     "text": [
      "3\n"
     ]
    }
   ],
   "source": [
    "a = {\n",
    "    'a': 1,\n",
    "    'e': 2,\n",
    "    'i': 3,\n",
    "    'o': 4,\n",
    "    'u': 5,\n",
    "}\n",
    "print(a['i'])"
   ]
  },
  {
   "cell_type": "markdown",
   "id": "5a9345ab",
   "metadata": {
    "id": "5a9345ab"
   },
   "source": [
    "## Question 38: Add a key-value pair to a dictionary."
   ]
  },
  {
   "cell_type": "code",
   "execution_count": 41,
   "id": "82052d5c",
   "metadata": {
    "id": "82052d5c"
   },
   "outputs": [
    {
     "name": "stdout",
     "output_type": "stream",
     "text": [
      "{'a': 1, 'e': 2, 'i': 3, 'o': 4, 'u': 5, 'l': 6}\n"
     ]
    }
   ],
   "source": [
    "a = {\n",
    "    'a': 1,\n",
    "    'e': 2,\n",
    "    'i': 3,\n",
    "    'o': 4,\n",
    "    'u': 5,\n",
    "}\n",
    "a['l'] = 6\n",
    "print(a)"
   ]
  },
  {
   "cell_type": "markdown",
   "id": "1bb2fdfb",
   "metadata": {
    "id": "1bb2fdfb"
   },
   "source": [
    "## Question 39: Update a value in a dictionary.?"
   ]
  },
  {
   "cell_type": "code",
   "execution_count": 42,
   "id": "0d5336b0",
   "metadata": {
    "id": "0d5336b0"
   },
   "outputs": [
    {
     "name": "stdout",
     "output_type": "stream",
     "text": [
      "{'a': 1, 'e': 2, 'i': 3, 'o': 4, 'u': 6}\n"
     ]
    }
   ],
   "source": [
    "a = {\n",
    "    'a': 1,\n",
    "    'e': 2,\n",
    "    'i': 3,\n",
    "    'o': 4,\n",
    "    'u': 5,\n",
    "}\n",
    "a['u'] = 6\n",
    "print(a)"
   ]
  },
  {
   "cell_type": "markdown",
   "id": "0fa7c992",
   "metadata": {
    "id": "0fa7c992"
   },
   "source": [
    "## Question 40: Remove a key-value pair using pop()."
   ]
  },
  {
   "cell_type": "code",
   "execution_count": 43,
   "id": "a48eb6af",
   "metadata": {
    "id": "a48eb6af"
   },
   "outputs": [
    {
     "name": "stdout",
     "output_type": "stream",
     "text": [
      "{'a': 1, 'e': 2, 'i': 3, 'o': 4}\n"
     ]
    }
   ],
   "source": [
    "a = {\n",
    "    'a': 1,\n",
    "    'e': 2,\n",
    "    'i': 3,\n",
    "    'o': 4,\n",
    "    'u': 5,\n",
    "}\n",
    "a.pop('u')\n",
    "print(a)"
   ]
  },
  {
   "cell_type": "markdown",
   "id": "fb75a45e",
   "metadata": {
    "id": "fb75a45e"
   },
   "source": [
    "## Question 41: Use a loop to print all keys and values in a dictionary."
   ]
  },
  {
   "cell_type": "code",
   "execution_count": 44,
   "id": "098b6cdd",
   "metadata": {
    "id": "098b6cdd"
   },
   "outputs": [
    {
     "name": "stdout",
     "output_type": "stream",
     "text": [
      "a 1\n",
      "e 2\n",
      "i 3\n",
      "o 4\n",
      "u 5\n"
     ]
    }
   ],
   "source": [
    "a = {\n",
    "    'a': 1,\n",
    "    'e': 2,\n",
    "    'i': 3,\n",
    "    'o': 4,\n",
    "    'u': 5,\n",
    "}\n",
    "\n",
    "for key, value in a.items():\n",
    "    print(key, value)"
   ]
  },
  {
   "cell_type": "markdown",
   "id": "b53d6117",
   "metadata": {
    "id": "b53d6117"
   },
   "source": [
    "## Question 42: Check if a key exists in a dictionary."
   ]
  },
  {
   "cell_type": "code",
   "execution_count": 45,
   "id": "6f076421",
   "metadata": {
    "id": "6f076421"
   },
   "outputs": [
    {
     "name": "stdout",
     "output_type": "stream",
     "text": [
      "True\n"
     ]
    }
   ],
   "source": [
    "a = {\n",
    "    'a': 1,\n",
    "    'e': 2,\n",
    "    'i': 3,\n",
    "    'o': 4,\n",
    "    'u': 5,\n",
    "}\n",
    "\n",
    "print('i' in a)"
   ]
  },
  {
   "cell_type": "markdown",
   "id": "87907569",
   "metadata": {
    "id": "87907569"
   },
   "source": [
    "## Question 43: Get all keys from a dictionary."
   ]
  },
  {
   "cell_type": "code",
   "execution_count": 46,
   "id": "910d37e6",
   "metadata": {
    "id": "910d37e6"
   },
   "outputs": [
    {
     "name": "stdout",
     "output_type": "stream",
     "text": [
      "dict_keys(['a', 'e', 'i', 'o', 'u'])\n"
     ]
    }
   ],
   "source": [
    "a = {\n",
    "    'a': 1,\n",
    "    'e': 2,\n",
    "    'i': 3,\n",
    "    'o': 4,\n",
    "    'u': 5,\n",
    "}\n",
    "\n",
    "b = a.keys()\n",
    "print(b)"
   ]
  },
  {
   "cell_type": "markdown",
   "id": "2a55343d",
   "metadata": {
    "id": "2a55343d"
   },
   "source": [
    "## Question 44: Get all values from a dictionary."
   ]
  },
  {
   "cell_type": "code",
   "execution_count": 47,
   "id": "fbc783f2",
   "metadata": {
    "id": "fbc783f2"
   },
   "outputs": [
    {
     "name": "stdout",
     "output_type": "stream",
     "text": [
      "dict_values([1, 2, 3, 4, 5])\n"
     ]
    }
   ],
   "source": [
    "a = {\n",
    "    'a': 1,\n",
    "    'e': 2,\n",
    "    'i': 3,\n",
    "    'o': 4,\n",
    "    'u': 5,\n",
    "}\n",
    "\n",
    "b = a.values()\n",
    "print(b)"
   ]
  },
  {
   "cell_type": "markdown",
   "id": "8b36b6a2",
   "metadata": {
    "id": "8b36b6a2"
   },
   "source": [
    "## Question 45: Merge two dictionaries."
   ]
  },
  {
   "cell_type": "code",
   "execution_count": 49,
   "id": "5339bd51",
   "metadata": {
    "id": "5339bd51"
   },
   "outputs": [
    {
     "name": "stdout",
     "output_type": "stream",
     "text": [
      "{'a': 1, 'e': 2, 'i': 3, 'o': 4, 'u': 5, 'b': 1, 'c': 2, 'd': 3, 'f': 4, 'g': 5}\n"
     ]
    }
   ],
   "source": [
    "a = {\n",
    "    'a': 1,\n",
    "    'e': 2,\n",
    "    'i': 3,\n",
    "    'o': 4,\n",
    "    'u': 5,\n",
    "}\n",
    "\n",
    "b = {\n",
    "    'b': 1,\n",
    "    'c': 2,\n",
    "    'd': 3,\n",
    "    'f': 4,\n",
    "    'g': 5,\n",
    "}\n",
    "\n",
    "a.update(b)\n",
    "print(a)"
   ]
  },
  {
   "cell_type": "markdown",
   "id": "769caf5f",
   "metadata": {
    "id": "769caf5f"
   },
   "source": [
    "## Question 46: Create a dictionary from two lists using zip."
   ]
  },
  {
   "cell_type": "code",
   "execution_count": 50,
   "id": "86e6b5fc",
   "metadata": {
    "id": "86e6b5fc"
   },
   "outputs": [
    {
     "name": "stdout",
     "output_type": "stream",
     "text": [
      "{1: 5, 2: 6, 3: 7, 4: 8}\n"
     ]
    }
   ],
   "source": [
    "a = [1, 2, 3, 4]\n",
    "b = [5, 6, 7, 8]\n",
    "c = dict(zip(a, b))\n",
    "print(c)"
   ]
  },
  {
   "cell_type": "markdown",
   "id": "8161708d",
   "metadata": {
    "id": "8161708d"
   },
   "source": [
    "## Question 47: Use get() to access a value with a default."
   ]
  },
  {
   "cell_type": "code",
   "execution_count": 51,
   "id": "46576d5a",
   "metadata": {
    "id": "46576d5a"
   },
   "outputs": [
    {
     "name": "stdout",
     "output_type": "stream",
     "text": [
      "10\n"
     ]
    }
   ],
   "source": [
    "a = {\n",
    "    'a': 1,\n",
    "    'e': 2,\n",
    "    'i': 3,\n",
    "    'o': 4,\n",
    "    'u': 5,\n",
    "}\n",
    "\n",
    "print(a.get('f', 10))"
   ]
  },
  {
   "cell_type": "markdown",
   "id": "635a7cea",
   "metadata": {
    "id": "635a7cea"
   },
   "source": [
    "## Question 48: Remove all items from a dictionary."
   ]
  },
  {
   "cell_type": "code",
   "execution_count": 52,
   "id": "b162e022",
   "metadata": {
    "id": "b162e022"
   },
   "outputs": [
    {
     "name": "stdout",
     "output_type": "stream",
     "text": [
      "{'a': 1, 'e': 2, 'i': 3, 'o': 4, 'u': 5}\n",
      "{}\n"
     ]
    }
   ],
   "source": [
    "a = {\n",
    "    'a': 1,\n",
    "    'e': 2,\n",
    "    'i': 3,\n",
    "    'o': 4,\n",
    "    'u': 5,\n",
    "}\n",
    "\n",
    "print(a)\n",
    "a.clear()\n",
    "print(a)"
   ]
  },
  {
   "cell_type": "markdown",
   "id": "51eca5be",
   "metadata": {
    "id": "51eca5be"
   },
   "source": [
    "## Question 49: Use dictionary comprehension to create a dictionary of squares."
   ]
  },
  {
   "cell_type": "code",
   "execution_count": 53,
   "id": "c137061e",
   "metadata": {
    "id": "c137061e"
   },
   "outputs": [
    {
     "name": "stdout",
     "output_type": "stream",
     "text": [
      "{0: 0, 1: 1, 2: 4, 3: 9, 4: 16, 5: 25, 6: 36, 7: 49, 8: 64, 9: 81}\n"
     ]
    }
   ],
   "source": [
    "a = {x: x**2 for x in range(10)}\n",
    "print(a)"
   ]
  },
  {
   "cell_type": "markdown",
   "id": "f486a509",
   "metadata": {
    "id": "f486a509"
   },
   "source": [
    "## Question 50: Create a nested dictionary and access an element."
   ]
  },
  {
   "cell_type": "code",
   "execution_count": 54,
   "id": "7a63a491",
   "metadata": {
    "id": "7a63a491"
   },
   "outputs": [
    {
     "name": "stdout",
     "output_type": "stream",
     "text": [
      "2\n"
     ]
    }
   ],
   "source": [
    "a = {\n",
    "    'a': {\n",
    "        1: 2\n",
    "    }\n",
    "}\n",
    "print(a['a'][1])"
   ]
  }
 ],
 "metadata": {
  "colab": {
   "provenance": []
  },
  "kernelspec": {
   "display_name": "Python 3",
   "language": "python",
   "name": "python3"
  },
  "language_info": {
   "codemirror_mode": {
    "name": "ipython",
    "version": 3
   },
   "file_extension": ".py",
   "mimetype": "text/x-python",
   "name": "python",
   "nbconvert_exporter": "python",
   "pygments_lexer": "ipython3",
   "version": "3.13.1"
  }
 },
 "nbformat": 4,
 "nbformat_minor": 5
}
