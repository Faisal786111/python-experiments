{
 "cells": [
  {
   "cell_type": "markdown",
   "metadata": {},
   "source": [
    "#### **Name of the Student:** <span style=\"color:red\">Faisal</span>         \n",
    "#### **Roll Number:** <span style=\"color:red\">197</span>    \n",
    "#### **Class:** <span style=\"color:red\">SY Comps</span>\n",
    "### **Batch:** <span style=\"color:red\">C12</span>"
   ]
  },
  {
   "cell_type": "code",
   "execution_count": 4,
   "metadata": {},
   "outputs": [
    {
     "name": "stdout",
     "output_type": "stream",
     "text": [
      "even\n",
      "odd\n"
     ]
    }
   ],
   "source": [
    "# Write a lambda function to check if a given numberr is even or odd.\n",
    "\n",
    "x = lambda x:  \"even\" if x % 2 ==0 else \"odd\"\n",
    "print(x(2))\n",
    "print(x(3))\n"
   ]
  },
  {
   "cell_type": "code",
   "execution_count": 6,
   "metadata": {},
   "outputs": [
    {
     "name": "stdout",
     "output_type": "stream",
     "text": [
      "4\n"
     ]
    }
   ],
   "source": [
    "# Create a lambda function that returns the square of a given number.\n",
    "square = lambda x: x **2\n",
    "print(square(2))"
   ]
  },
  {
   "cell_type": "code",
   "execution_count": 8,
   "metadata": {},
   "outputs": [
    {
     "name": "stdout",
     "output_type": "stream",
     "text": [
      "3\n"
     ]
    }
   ],
   "source": [
    "# Find a maximum of three numbers \n",
    "x = lambda a,b,c: max(a,b,c)\n",
    "print(x(2,1,3))"
   ]
  },
  {
   "cell_type": "code",
   "execution_count": 10,
   "metadata": {},
   "outputs": [
    {
     "name": "stdout",
     "output_type": "stream",
     "text": [
      "Hello World!\n"
     ]
    }
   ],
   "source": [
    "# Define a lambda function that concatenates two given strings\n",
    "x = lambda a, b: a+b\n",
    "\n",
    "print(x(\"Hello\",\" World!\"))"
   ]
  },
  {
   "cell_type": "code",
   "execution_count": 12,
   "metadata": {},
   "outputs": [
    {
     "name": "stdout",
     "output_type": "stream",
     "text": [
      "False\n",
      "True\n"
     ]
    }
   ],
   "source": [
    "# Write a lambda function to check if a string starts wtith a specific letter (e.g., \"A\")\n",
    "\n",
    "x = lambda a: True if a.startswith(\"A\") else False \n",
    "\n",
    "print(x(\"Hello\"))\n",
    "print(x(\"Adam\"))"
   ]
  },
  {
   "cell_type": "code",
   "execution_count": 20,
   "metadata": {},
   "outputs": [
    {
     "name": "stdout",
     "output_type": "stream",
     "text": [
      "[(4, 1), (3, 2), (1, 3), (2, 5)]\n"
     ]
    }
   ],
   "source": [
    "# Use a lambda function to sort a list of tuples based on the second value in each tuple\n",
    "data = [(1, 3), (4, 1), (2, 5), (3, 2)]\n",
    "\n",
    "sorted_data = sorted(data, key = lambda x: x[1])\n",
    "\n",
    "print(sorted_data)\n"
   ]
  },
  {
   "cell_type": "code",
   "execution_count": 17,
   "metadata": {},
   "outputs": [
    {
     "name": "stdout",
     "output_type": "stream",
     "text": [
      "77.0 °F\n"
     ]
    }
   ],
   "source": [
    "# Create a lambda funciton that converts a given temperature from Celsius to Fahrenheit\n",
    "x = lambda x : (x * 9/5) +32\n",
    "\n",
    "print(x(25),\"°F\")"
   ]
  },
  {
   "cell_type": "code",
   "execution_count": 22,
   "metadata": {},
   "outputs": [
    {
     "name": "stdout",
     "output_type": "stream",
     "text": [
      "[2, 4, 6, 8]\n"
     ]
    }
   ],
   "source": [
    "# Use map() and a lambda function to double each element in a list of numbers\n",
    "a = [1, 2, 3, 4]\n",
    "\n",
    "print(list(map(lambda x: x* 2 , a)))"
   ]
  },
  {
   "cell_type": "code",
   "execution_count": 28,
   "metadata": {},
   "outputs": [
    {
     "name": "stdout",
     "output_type": "stream",
     "text": [
      "HELLO WORLD\n"
     ]
    }
   ],
   "source": [
    "# Given a list of strings, use map() to convert all elemetns to uppercase.\n",
    "\n",
    "upp_str = list(map(lambda x : x.upper(), \"hello World\"))\n",
    "\n",
    "print(\"\".join(upp_str))"
   ]
  },
  {
   "cell_type": "code",
   "execution_count": 33,
   "metadata": {},
   "outputs": [
    {
     "name": "stdout",
     "output_type": "stream",
     "text": [
      "8\n"
     ]
    }
   ],
   "source": [
    "# Given a list of numbers, use map() to compute their cubes.\n",
    "\n",
    "num = [2]  \n",
    "cube = list(map(lambda x: x**3, num))\n",
    "print(cube[0])  \n"
   ]
  },
  {
   "cell_type": "code",
   "execution_count": 35,
   "metadata": {},
   "outputs": [
    {
     "name": "stdout",
     "output_type": "stream",
     "text": [
      "['H', 'A', 'B']\n"
     ]
    }
   ],
   "source": [
    "# Use map() with a lambda function to exract the first character of each word in a list of string\n",
    "\n",
    "str = [\"Hello\", \"Apple\", \"Banana\"]\n",
    "\n",
    "first_char = map(lambda x: x[0] , str)\n",
    "\n",
    "print(list(first_char))\n"
   ]
  },
  {
   "cell_type": "code",
   "execution_count": 38,
   "metadata": {},
   "outputs": [
    {
     "name": "stdout",
     "output_type": "stream",
     "text": [
      "[5, 5, 6]\n"
     ]
    }
   ],
   "source": [
    "# Use map() with a lambda funcitont to calculate the length of each word in a given list of string\n",
    "\n",
    "len_word = map(lambda x: len(x), str)\n",
    "print(list(len_word))"
   ]
  },
  {
   "cell_type": "code",
   "execution_count": 47,
   "metadata": {},
   "outputs": [
    {
     "name": "stdout",
     "output_type": "stream",
     "text": [
      "10\n"
     ]
    }
   ],
   "source": [
    "# Use reduce() and a lambda function to find the sum of all numbers in a list \n",
    "\n",
    "from functools import reduce \n",
    "\n",
    "nums = [1, 2, 3, 4]\n",
    "\n",
    "sum = reduce(lambda x,y: x+y, nums)\n",
    "print(sum)\n"
   ]
  },
  {
   "cell_type": "code",
   "execution_count": 49,
   "metadata": {},
   "outputs": [
    {
     "name": "stdout",
     "output_type": "stream",
     "text": [
      "24\n"
     ]
    }
   ],
   "source": [
    "# Write a reduce() function that calculates the product of all elements in a list\n",
    "\n",
    "product = reduce(lambda x,y : x*y , nums)\n",
    "print(product)"
   ]
  },
  {
   "cell_type": "code",
   "execution_count": 52,
   "metadata": {},
   "outputs": [
    {
     "name": "stdout",
     "output_type": "stream",
     "text": [
      "Hello Apple Banana\n"
     ]
    }
   ],
   "source": [
    "# Given list of words, use reduce() to concatenate then into a single string.\n",
    "str = [\"Hello\", \"Apple\", \"Banana\"]\n",
    "concatenate_string = reduce(lambda x,y : x +\" \"+y, str)\n",
    "print(concatenate_string)"
   ]
  },
  {
   "cell_type": "code",
   "execution_count": 58,
   "metadata": {},
   "outputs": [
    {
     "name": "stdout",
     "output_type": "stream",
     "text": [
      "Banana\n"
     ]
    }
   ],
   "source": [
    "# Use reduce(), to find the longets word in a given list of strings.\n",
    "str = [\"Hello\", \"Apple\", \"Banana\"]\n",
    "longest_word = reduce(lambda x, y: x if len(x) > len(y) else y , str)\n",
    "print(longest_word)"
   ]
  },
  {
   "cell_type": "code",
   "execution_count": 1,
   "metadata": {},
   "outputs": [
    {
     "name": "stdout",
     "output_type": "stream",
     "text": [
      "{'Alice': 26, 'Bob': 31, 'Charlie': 36}\n"
     ]
    }
   ],
   "source": [
    "# Given a list of dictionaries with keys name and age, use map() to increase the age of each person by 1.\n",
    "\n",
    "people = [\n",
    "    {\"name\": \"Alice\", \"age\": 25},\n",
    "    {\"name\": \"Bob\", \"age\": 30},\n",
    "    {\"name\": \"Charlie\", \"age\": 35}\n",
    "]\n",
    "\n",
    "# Using map to increase the age of each person by 1\n",
    "updated_people = dict(map(lambda person: (person[\"name\"], person[\"age\"] + 1), people))\n",
    "\n",
    "# Output the updated list\n",
    "print(updated_people)"
   ]
  },
  {
   "cell_type": "code",
   "execution_count": 73,
   "metadata": {},
   "outputs": [
    {
     "name": "stdout",
     "output_type": "stream",
     "text": [
      "[4, 5, 6]\n"
     ]
    }
   ],
   "source": [
    "# Use map() and lambda to convert a list of binary strings (e.g, \"101\", \"110\")) to decimal numbers.\n",
    "str_nums = [\"100\", \"101\", \"110\"]\n",
    "\n",
    "int_nums = list(map(lambda x: int(x, 2), str_nums))\n",
    "\n",
    "print(int_nums)"
   ]
  },
  {
   "cell_type": "code",
   "execution_count": 68,
   "metadata": {},
   "outputs": [
    {
     "name": "stdout",
     "output_type": "stream",
     "text": [
      "[6, 8, 10, 12]\n"
     ]
    }
   ],
   "source": [
    "# Given two lists, use map() and lambda to calculate the element wise sum of both lists.\n",
    "list1 = [1, 2, 3, 4]\n",
    "list2 = [5, 6, 7, 8]\n",
    "\n",
    "sum_list = list(map(lambda x, y: x + y, list1, list2))\n",
    "\n",
    "print(sum_list)\n",
    "\n"
   ]
  },
  {
   "cell_type": "code",
   "execution_count": 69,
   "metadata": {},
   "outputs": [
    {
     "name": "stdout",
     "output_type": "stream",
     "text": [
      "[None, 3, None, 9, 12, 15, 18, None, 21, None, 30, 33, 36]\n"
     ]
    }
   ],
   "source": [
    "# Write a python program using map() and lambda to filter out numbers that are not divisible by 3 from a list \n",
    "numbers = [1, 3, 4, 9, 12, 15, 18, 20, 21, 25, 30, 33, 36]\n",
    "\n",
    "mapped_result = list(map(lambda x: x if x % 3 == 0 else None, numbers))\n",
    "print(mapped_result)\n"
   ]
  }
 ],
 "metadata": {
  "kernelspec": {
   "display_name": "Python 3",
   "language": "python",
   "name": "python3"
  },
  "language_info": {
   "codemirror_mode": {
    "name": "ipython",
    "version": 3
   },
   "file_extension": ".py",
   "mimetype": "text/x-python",
   "name": "python",
   "nbconvert_exporter": "python",
   "pygments_lexer": "ipython3",
   "version": "3.13.1"
  }
 },
 "nbformat": 4,
 "nbformat_minor": 2
}
