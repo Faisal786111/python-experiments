{
 "cells": [
  {
   "cell_type": "markdown",
   "metadata": {},
   "source": [
    "Create a Python program that accepts two numbers from the user and performs basic arithmetic\n",
    "operations (addition, subtraction, multiplication, division). Display the results with appropriate\n",
    "labels.\n",
    "1. Use input() to read numbers.\n",
    "2. Use variables and expressions.\n",
    "3. Handle division carefully (no division by zero)"
   ]
  },
  {
   "cell_type": "code",
   "execution_count": 4,
   "metadata": {},
   "outputs": [
    {
     "name": "stdout",
     "output_type": "stream",
     "text": [
      "Addition:  4\n",
      "Subtraction:  4\n",
      "Cannot divide by  0\n",
      "Multiplication:  0\n"
     ]
    }
   ],
   "source": [
    "num1 = int(input(\"Enter first no: \"))\n",
    "num2 = int(input(\"Enter second no: \"))\n",
    "\n",
    "print(\"Addition: \", num1 + num2)\n",
    "print(\"Subtraction: \", num1 - num2)\n",
    "\n",
    "if num2 != 0:\n",
    "    print(\"Division: \", num1 // num2)\n",
    "else:\n",
    "    print(\"Cannot divide by \", num2)\n",
    "    \n",
    "print(\"Multiplication: \", num1 * num2)\n"
   ]
  },
  {
   "cell_type": "markdown",
   "metadata": {},
   "source": [
    "Write a Python program that prints a famous quote, ensuring the quote and the author's name\n",
    "are properly formatted with the use of quotation marks and escape characters.\n",
    "Albert Einstein once said, \"Imagination is more important than knowledge.\"\n",
    "1. Use proper use of quotes and escape sequences (\\\").\n",
    "2. Use string variables to store the quote and author separately"
   ]
  },
  {
   "cell_type": "code",
   "execution_count": 6,
   "metadata": {},
   "outputs": [
    {
     "name": "stdout",
     "output_type": "stream",
     "text": [
      "Albert Einstein once said, \"Imagination is more important than knowledge.\"\n"
     ]
    }
   ],
   "source": [
    "print(\"Albert Einstein once said, \\\"Imagination is more important than knowledge.\\\"\")"
   ]
  },
  {
   "cell_type": "markdown",
   "metadata": {},
   "source": [
    "Ask the user for a number and determine whether it is even or odd. Display an appropriate\n",
    "message.\n",
    "1. Use if-else decision-making statements.\n",
    "2. Use modulus operator (%) for the check.\n",
    "3. Print clear output"
   ]
  },
  {
   "cell_type": "code",
   "execution_count": 8,
   "metadata": {},
   "outputs": [
    {
     "name": "stdout",
     "output_type": "stream",
     "text": [
      "3 is an odd no.\n"
     ]
    }
   ],
   "source": [
    "num = int(input(\"Enter the no to check even or odd: \"))\n",
    "\n",
    "if num % 2 == 0:\n",
    "    print(f\"{num} is an even no.\")\n",
    "else:\n",
    "    print(f\"{num} is an odd no.\")"
   ]
  },
  {
   "cell_type": "markdown",
   "metadata": {},
   "source": [
    "Create a Python program that accepts a student's score and prints their grade based on the\n",
    "following:\n",
    "90 and above: A\n",
    "80–89: B\n",
    "70–79: C\n",
    "60–69: D\n",
    "Below 60: F\n",
    "Use if-elif-else statements.\n",
    "Validate that the score entered is between 0 and 100."
   ]
  },
  {
   "cell_type": "code",
   "execution_count": 10,
   "metadata": {},
   "outputs": [
    {
     "name": "stdout",
     "output_type": "stream",
     "text": [
      "Student's grade: F\n"
     ]
    }
   ],
   "source": [
    "score = int(input(\"Enter the score :\"))\n",
    "\n",
    "if 0 <= score <= 100:\n",
    "    if score >= 90:\n",
    "        grade = 'A'\n",
    "    elif score >= 80:\n",
    "        grade = 'B'\n",
    "    elif score >= 70:\n",
    "        grade = 'C'\n",
    "    elif score >= 60:\n",
    "        grade = 'D'\n",
    "    else:\n",
    "        grade = 'F'\n",
    "        print(f\"Student's grade: {grade}\")\n",
    "else:\n",
    "    print(\"Enter valid score between 0-100\")"
   ]
  },
  {
   "cell_type": "markdown",
   "metadata": {},
   "source": [
    "Write a Python program that accepts a string from the user and prints the reversed version of\n",
    "the string.\n",
    "1. Use slicing ([::-1]).\n",
    "2. Also display the original string length using len()."
   ]
  },
  {
   "cell_type": "code",
   "execution_count": 28,
   "metadata": {},
   "outputs": [
    {
     "name": "stdout",
     "output_type": "stream",
     "text": [
      "Original String: 6\n",
      "Reversed String: lasiaf\n"
     ]
    }
   ],
   "source": [
    "# str = input(\"Enter the string: \")\n",
    "str = \"faisal\"\n",
    "\n",
    "rev_str = str[::-1]\n",
    "\n",
    "print(f\"Original String: {len(str)}\")\n",
    "print(f\"Reversed String: {rev_str}\")"
   ]
  },
  {
   "cell_type": "markdown",
   "metadata": {},
   "source": [
    "Ask the user to input a string and check whether the string is a palindrome (reads the same\n",
    "forwards and backwards).\n",
    "1. Ignore case (use .lower()).\n",
    "2. Use decision-making (if-else) based on comparison."
   ]
  },
  {
   "cell_type": "code",
   "execution_count": 30,
   "metadata": {},
   "outputs": [
    {
     "name": "stdout",
     "output_type": "stream",
     "text": [
      "No.\n"
     ]
    }
   ],
   "source": [
    "str = input(\"Enter the string:\")\n",
    "\n",
    "rev_str = str[::-1]\n",
    "\n",
    "if str.lower() == rev_str.lower():\n",
    "    print(\"Palindrom string.\")\n",
    "else:\n",
    "    print(\"No.\")"
   ]
  },
  {
   "cell_type": "markdown",
   "metadata": {},
   "source": [
    "Write a Python program that counts the number of words in a user-entered sentence.\n",
    "1. Use the split() method.\n",
    "2. Print the total word count."
   ]
  },
  {
   "cell_type": "code",
   "execution_count": 33,
   "metadata": {},
   "outputs": [
    {
     "name": "stdout",
     "output_type": "stream",
     "text": [
      "Total word count:  3\n"
     ]
    }
   ],
   "source": [
    "str = input(\"Enter the no of words: \")\n",
    "\n",
    "list = str.split(\" \")\n",
    "\n",
    "print(\"Total word count: \",len(list))"
   ]
  },
  {
   "cell_type": "markdown",
   "metadata": {},
   "source": [
    "Create a program that asks the user to input a sentence and a character, then finds and prints:\n",
    "1. How many times that character appears (count() method).\n",
    "2. The first position where the character occurs (find() method)."
   ]
  },
  {
   "cell_type": "code",
   "execution_count": 34,
   "metadata": {},
   "outputs": [
    {
     "name": "stdout",
     "output_type": "stream",
     "text": [
      "Char occurences:  3\n",
      "Char first occurence:  1\n"
     ]
    }
   ],
   "source": [
    "sentence = input(\"Enter a sentence: \")\n",
    "char = input(\"Enter a char\")\n",
    "\n",
    "print(\"Char occurences: \", sentence.count(char))\n",
    "print(\"Char first occurence: \", sentence.find(char))"
   ]
  },
  {
   "cell_type": "markdown",
   "metadata": {},
   "source": [
    "Create a list of 5 numbers entered by the user. Perform the following:\n",
    "1. Display the list.\n",
    "2. Add a new number to the list.\n",
    "3. Sort the list in ascending order.\n",
    "4. Remove a number entered by the user.\n",
    "Use append(), sort(), and remove() methods.\n"
   ]
  },
  {
   "cell_type": "code",
   "execution_count": 17,
   "metadata": {},
   "outputs": [
    {
     "name": "stdout",
     "output_type": "stream",
     "text": [
      "[10, 20, 30, 40, 50]\n",
      "[10, 20, 30, 40, 50, 10]\n",
      "[10, 10, 20, 30, 40, 50]\n",
      "[10, 10, 20, 30, 40]\n"
     ]
    }
   ],
   "source": [
    "numbers = []\n",
    "\n",
    "for i in range(5):\n",
    "    num = int(input(f\"Enter {i+1} number: \"))\n",
    "    numbers.append(num)\n",
    "\n",
    "print(numbers)\n",
    "# Add an element \n",
    "numbers.append(10)\n",
    "\n",
    "print(numbers)\n",
    "\n",
    "# Sortthe list in ascending order \n",
    "#list.sort(reverse=True|False, key=myFunc)\n",
    "numbers.sort()\n",
    "print(numbers)\n",
    "\n",
    "# Remove a number entered by the user \n",
    "num = int(input(\"Enter a number to remove: \"))\n",
    "numbers.remove(num)\n",
    "\n",
    "print(numbers)"
   ]
  },
  {
   "cell_type": "markdown",
   "metadata": {},
   "source": [
    "Create a tuple with 5 user-entered elements and perform:\n",
    "1. Find the maximum and minimum values.\n",
    "2. Find the sum of all elements.\n",
    "3. Print the second and fourth elements separately.\n",
    "Use built-in functions like max(), min(), and sum()."
   ]
  },
  {
   "cell_type": "code",
   "execution_count": 30,
   "metadata": {},
   "outputs": [
    {
     "name": "stdout",
     "output_type": "stream",
     "text": [
      "Max value: 50 and Min value: 10\n",
      "Sum of all elements : 150\n",
      "First Element: 10 \n",
      "Fourth Element: 40\n"
     ]
    }
   ],
   "source": [
    "# Tuple\n",
    "# Tuples are used to store multiple items in a single variable.\n",
    "\n",
    "# Tuple is one of 4 built-in data types in Python used to store collections of data, the other 3 are List, Set, and Dictionary, all with different qualities and usage.\n",
    "\n",
    "# A tuple is a collection which is ordered and unchangeable.\n",
    "\n",
    "# Tuples are written with round brackets and using tuple() built in function.\n",
    "\n",
    "# Methods for tuple :\n",
    "# 1. count\n",
    "# 2. index\n",
    "a = input(\"Enter the number: \")\n",
    "\n",
    "nums = tuple(map(int, a.split(\",\")))\n",
    "\n",
    "# find the max and min values \n",
    "print(f\"Max value: {max(nums)} and Min value: {min(nums)}\")\n",
    "\n",
    "# Find the sum of all elemetns \n",
    "print(f\"Sum of all elements : {sum(nums)}\")\n",
    "\n",
    "# Print the second and fourth elements separately \n",
    "print(f\"First Element: {nums[0]} \\nFourth Element: {nums[3]}\")\n"
   ]
  },
  {
   "cell_type": "markdown",
   "metadata": {},
   "source": [
    "Ask the user for 3 keys and their corresponding values to create a dictionary. Then:\n",
    "1. Display all keys and values separately.\n",
    "2. Access and print the value for a specific key entered by the user.\n",
    "Use keys(), values(), and indexing methods.\n"
   ]
  },
  {
   "cell_type": "code",
   "execution_count": 36,
   "metadata": {},
   "outputs": [
    {
     "name": "stdout",
     "output_type": "stream",
     "text": [
      "{'name': 'faisa', 'rollno': '18', 'age': '20'}\n",
      "Key not found\n"
     ]
    }
   ],
   "source": [
    "# Dictionary\n",
    "# Dictionaries are used to store data values in key:value pairs.\n",
    "\n",
    "# A dictionary is a collection which is ordered*, changeable and do not allow duplicates.\n",
    "# Dictionaries are written with curly brackets, and have keys and values:\n",
    "# Dict() constructure can also be used to create dict.\n",
    "\n",
    "my_dict = {}\n",
    "\n",
    "for i in range(3):\n",
    "    key = input(f\"Enter the key {i+1}: \")\n",
    "    value = input(f\"Enter the value {key}\")\n",
    "\n",
    "    my_dict[key] = value\n",
    "\n",
    "print(my_dict)\n",
    "\n",
    "# Access and print the vlaue for a specific key entered by the user \n",
    "key = input(\"Enter the key to print:\")\n",
    "\n",
    "if key in my_dict: \n",
    "    print(my_dict[key])\n",
    "else:\n",
    "    print(\"Key not found\")\n",
    "\n"
   ]
  },
  {
   "cell_type": "markdown",
   "metadata": {},
   "source": [
    "Create a dictionary to store the student’s name, roll number, and marks. Allow the user to:\n",
    "1. Update marks.\n",
    "2. Add a new field like 'grade'.\n",
    "3. Delete the roll number field.\n",
    "Use dictionary update(), del, and standard dictionary methods.\n"
   ]
  },
  {
   "cell_type": "code",
   "execution_count": 39,
   "metadata": {},
   "outputs": [
    {
     "name": "stdout",
     "output_type": "stream",
     "text": [
      "{'name': 'faisal', 'rollno': 197, 'marks': 188, 19881: 19881, 'grade': 'A'}\n",
      "{'name': 'faisal', 'marks': 188, 19881: 19881, 'grade': 'A'}\n"
     ]
    }
   ],
   "source": [
    "my_dict = {\n",
    "    \"name\":\"faisal\",\n",
    "    \"rollno\":197,\n",
    "    \"marks\":188\n",
    "}\n",
    "\n",
    "# update marks\n",
    "marks = int(input(\"Enter the marks to update: \"))\n",
    "my_dict[marks] = marks \n",
    "\n",
    "my_dict[\"grade\"] = \"A\"\n",
    "\n",
    "print(my_dict)\n",
    "\n",
    "del my_dict[\"rollno\"]\n",
    "print(my_dict)\n",
    "\n"
   ]
  },
  {
   "cell_type": "markdown",
   "metadata": {},
   "source": [
    "Create a 1D array of 5 integers entered by the user. Perform the following:\n",
    "1. Display the array elements.\n",
    "2. Find and display the sum of all elements.\n",
    "3. Find the maximum element.\n",
    "Use array module or lists.\n",
    "Use simple loops (for)"
   ]
  },
  {
   "cell_type": "code",
   "execution_count": 42,
   "metadata": {},
   "outputs": [
    {
     "name": "stdout",
     "output_type": "stream",
     "text": [
      "array('i', [10, 20, 30, 40, 50])\n",
      "150\n",
      "50\n"
     ]
    }
   ],
   "source": [
    "# list: \n",
    "# Dynamic size \n",
    "# Heterogenous datastructure\n",
    "\n",
    "# array:\n",
    "# fixed size \n",
    "# Homogenuous ds \n",
    "from array import array \n",
    "\n",
    "a = input(\"Enter the 5 numbers: \")\n",
    "\n",
    "arr = array('i', map(int, a.split(\",\")))\n",
    "\n",
    "# Display array elemetns \n",
    "print(arr)\n",
    "\n",
    "# find and display the sum of allelemetsn \n",
    "print(sum(arr))\n",
    "\n",
    "# find the max element \n",
    "print(max(arr))"
   ]
  },
  {
   "cell_type": "markdown",
   "metadata": {},
   "source": [
    "Create a 2D array (matrix) of size 3x3 where the user inputs the elements. Perform the\n",
    "following:\n",
    "1. Display the matrix.\n",
    "2. Calculate the sum of each row and each column separately.\n",
    "Use nested lists.\n",
    "Use nested loops"
   ]
  },
  {
   "cell_type": "code",
   "execution_count": 47,
   "metadata": {},
   "outputs": [
    {
     "name": "stdout",
     "output_type": "stream",
     "text": [
      "[[10, 20, 30], [10, 20, 30], [10, 20, 30]]\n",
      "Row 1 sum: 60\n",
      "Row 2 sum: 60\n",
      "Row 3 sum: 60\n",
      "Column 1 sum: 30\n",
      "Column 2 sum: 60\n",
      "Column 3 sum: 90\n"
     ]
    }
   ],
   "source": [
    "# Create 2D matrix \n",
    "matrix = []\n",
    "\n",
    "for i in range(3):\n",
    "    row = []\n",
    "    for j in range(3):\n",
    "        element = int(input(f\"Enter the number for {i+1}{j+1}\"))\n",
    "        row.append(element)\n",
    "    matrix.append(row)\n",
    "\n",
    "# Display Matrix \n",
    "print(matrix)\n",
    "\n",
    "# Calculate the sum of each row\n",
    "for i in range(3):\n",
    "    row_sum = sum(matrix[i])\n",
    "    print(f\"Row {i+1} sum: {row_sum}\")\n",
    "\n",
    "\n",
    "# Calculate the sum of each column\n",
    "for j in range(3):\n",
    "    col_sum = 0\n",
    "    for i in range(3):\n",
    "        col_sum+= matrix[i][j]\n",
    "    print(f\"Column {j+1} sum: {col_sum}\")\n",
    "\n"
   ]
  },
  {
   "cell_type": "markdown",
   "metadata": {},
   "source": [
    "Write a Python program with a function calculate_average(numbers) that accepts a list of\n",
    "numbers and returns the average.\n",
    "1. Define and call user-defined function.\n",
    "2. Use input from the user."
   ]
  },
  {
   "cell_type": "code",
   "execution_count": 51,
   "metadata": {},
   "outputs": [
    {
     "name": "stdout",
     "output_type": "stream",
     "text": [
      "25.0\n"
     ]
    }
   ],
   "source": [
    "#Function: \n",
    "\n",
    "# A function is a block of code which only runs when it is called.\n",
    "# You can pass data, known as parameters, into a function.\n",
    "# A function can return data as a result.\n",
    "# Def keyword is used to create function.mro\n",
    "# Types: \n",
    "# user defined functions \n",
    "# Built in functions\n",
    "del list \n",
    "\n",
    "def calculate_avg(numbers):\n",
    "    return sum(numbers) / len(numbers)\n",
    "\n",
    "a = input(\"Enter the numbers: \")\n",
    "my_list = list(map(int, a.split(\",\")))  # Convert map object to list\n",
    "\n",
    "print(calculate_avg(my_list))\n"
   ]
  },
  {
   "cell_type": "markdown",
   "metadata": {},
   "source": [
    "Create a recursive function to print the Fibonacci series up to n terms.\n",
    "1. Define a recursive function fibonacci(n).\n",
    "2. Use if-else for recursion base condition."
   ]
  },
  {
   "cell_type": "code",
   "execution_count": 53,
   "metadata": {},
   "outputs": [
    {
     "name": "stdout",
     "output_type": "stream",
     "text": [
      "8\n"
     ]
    }
   ],
   "source": [
    "def fib(n):\n",
    "    # Base case \n",
    "    if(n <= 1):\n",
    "        return n \n",
    "    return fib(n-1) + fib(n-2)\n",
    "\n",
    "print(fib(6))\n",
    "\n"
   ]
  },
  {
   "cell_type": "markdown",
   "metadata": {},
   "source": [
    "Write a Python program to input a list of numbers from the user and use map() with a lambda\n",
    "function to create a new list containing the squares of the numbers.\n",
    "1. Use map() and lambda.\n",
    "2. Print the original and squared lists."
   ]
  },
  {
   "cell_type": "code",
   "execution_count": 57,
   "metadata": {},
   "outputs": [
    {
     "name": "stdout",
     "output_type": "stream",
     "text": [
      "Original list: [1, 2, 3, 4, 5]\n",
      "Squared list: [1, 4, 9, 16, 25]\n"
     ]
    }
   ],
   "source": [
    "# # lambda:\n",
    "# A lambda function is a small anonymous function.\n",
    "\n",
    "# A lambda function can take any number of arguments, but can only have one expression.\n",
    "\n",
    "# syntax:\n",
    "# lambda arguments : expression\n",
    "\n",
    "# map:\n",
    "# The map() function executes a specified function for each item in an iterable. The item is sent to the function as a parameter.\n",
    "# syntax:\n",
    "# map(function, iterables)\n",
    "\n",
    "# map functionr returns map object \n",
    "\n",
    "a = input(\"Enter the nos:\")\n",
    "nums = list(map(int, a.split(\",\")))\n",
    "\n",
    "\n",
    "square = lambda x: x ** 2 \n",
    "squared = list(map(square, nums))\n",
    "\n",
    "print(f\"Original list: {nums}\")\n",
    "print(f\"Squared list: {squared}\")\n"
   ]
  },
  {
   "cell_type": "markdown",
   "metadata": {},
   "source": [
    "Create a list of numbers. Use the filter() function and a lambda function to extract only the\n",
    "even numbers into a new list.\n",
    "1. Use filter() and lambda.\n",
    "2. Print both the original and filtered lists"
   ]
  },
  {
   "cell_type": "code",
   "execution_count": 62,
   "metadata": {},
   "outputs": [
    {
     "name": "stdout",
     "output_type": "stream",
     "text": [
      "Original list: [10, 11, 3, 5, 20, 30, 40, 50]\n",
      "Squared list: [10, 20, 30, 40, 50]\n"
     ]
    }
   ],
   "source": [
    "# Filter :\n",
    "\n",
    "# It is a built_in function that accepts two parameters function, and iterable \n",
    "# returns filter object \n",
    "# syntax:\n",
    "# filter(myFunc, iterable)\n",
    "\n",
    "nums = [10,11, 3, 5, 20, 30, 40, 50]\n",
    "\n",
    "even = lambda x : x % 2 == 0 \n",
    "even_list = list(filter(even, nums)) \n",
    "print(f\"Original list: {nums}\")\n",
    "print(f\"Squared list: {even_list}\")\n"
   ]
  },
  {
   "cell_type": "markdown",
   "metadata": {},
   "source": [
    "Ask the user for a list of numbers. Use the reduce() function along with a lambda function to\n",
    "compute the sum of all numbers.\n",
    "1. Import reduce from functools.\n",
    "2. Use lambda inside reduce().\n"
   ]
  },
  {
   "cell_type": "code",
   "execution_count": 64,
   "metadata": {},
   "outputs": [
    {
     "name": "stdout",
     "output_type": "stream",
     "text": [
      "60\n"
     ]
    }
   ],
   "source": [
    "# Reduce (): \n",
    "# It is not built in function in python \n",
    "# Import reduce() from functools module \n",
    "# It accepts two parametrs \n",
    "# syntax:\n",
    "# reduce(func, iterable)\n",
    "\n",
    "from functools import reduce \n",
    "\n",
    "a = input(\"Enter the nos: \")\n",
    "nums = list(map(int, a.split(\",\")))\n",
    "\n",
    "sum = reduce(lambda x, y: x + y, nums)\n",
    "\n",
    "print(sum)"
   ]
  },
  {
   "cell_type": "markdown",
   "metadata": {},
   "source": [
    "Write a program to find the maximum number in a list using reduce() and a lambda function\n",
    "(without using built-in max()).\n",
    "1. Use reduce() and lambda.\n",
    "2. Print the maximum number found"
   ]
  },
  {
   "cell_type": "code",
   "execution_count": 66,
   "metadata": {},
   "outputs": [
    {
     "name": "stdout",
     "output_type": "stream",
     "text": [
      "30\n"
     ]
    }
   ],
   "source": [
    "max = reduce(lambda x, y: x if x > y else y, nums)\n",
    "print(max)"
   ]
  },
  {
   "cell_type": "markdown",
   "metadata": {},
   "source": [
    "Write a Python class Book with attributes title, author, and price.\n",
    "1. Create a constructor to initialize these values.\n",
    "2. Write a method display_details() to display book information.\n",
    "Create at least two book objects and display their details"
   ]
  },
  {
   "cell_type": "code",
   "execution_count": 73,
   "metadata": {},
   "outputs": [
    {
     "name": "stdout",
     "output_type": "stream",
     "text": [
      "C, Rabin karp, 100\n",
      "Cpp, Guido van rossum, 100\n"
     ]
    }
   ],
   "source": [
    "\n",
    "\n",
    "# Class and objects: \n",
    "# Python is an object oriented programming language.\n",
    "# Almost everything in Python is an object, with its properties and methods.\n",
    "# A Class is like an object constructor, or a \"blueprint\" for creating objects.\n",
    "# To create class we use class keyword \n",
    "# The __init__() function is called automatically every time the class is being used to create a new object.\n",
    "# The __str__() function controls what should be returned when the class object is represented as a string.\n",
    "# The self parameter is a reference to the current instance of the class, and is used to access variables that belong to the class.\n",
    "\n",
    "# class MyClass:\n",
    "#     def __init__(self, name, age):\n",
    "#         self.name = name \n",
    "#         self.age = age \n",
    "    \n",
    "#     def __str__(self):\n",
    "#         return f\"{self.name}, {self.age}\"\n",
    "\n",
    "# p1 = MyClass(\"faisal\", 19)\n",
    "# print(p1)\n",
    "\n",
    "class Book:\n",
    "    def __init__(self, title, author, price):\n",
    "        self.title = title\n",
    "        self.author = author\n",
    "        self.price = price\n",
    "    \n",
    "    def display_details(self):\n",
    "        print(f\"{self.title}, {self.author}, {self.price}\") \n",
    "\n",
    "\n",
    "b1 = Book(\"C\", \"Rabin karp\", 100)\n",
    "b2 = Book(\"Cpp\", \"Guido van rossum\", 100)\n",
    "\n",
    "b1.display_details()\n",
    "b2.display_details()"
   ]
  },
  {
   "cell_type": "markdown",
   "metadata": {},
   "source": [
    "Write a class Rectangle with attributes length and breadth.\n",
    "1. Write a constructor to initialize dimensions.\n",
    "2. Write methods to calculate and return the area and perimeter of the rectangle.\n",
    "Create an object and display area and perimeter."
   ]
  },
  {
   "cell_type": "code",
   "execution_count": 74,
   "metadata": {},
   "outputs": [
    {
     "name": "stdout",
     "output_type": "stream",
     "text": [
      "Area: 4\n",
      "Perimeter: 8\n"
     ]
    }
   ],
   "source": [
    "class Rectangle:\n",
    "    def __init__(self, length, breadth):\n",
    "        self.length = length\n",
    "        self.breadth = breadth\n",
    "    \n",
    "    def area(self):\n",
    "        return self.length * self.breadth\n",
    "\n",
    "    def perimeter(self):\n",
    "        return 2 * (self.length + self.breadth)\n",
    "\n",
    "r1 = Rectangle(2, 2)\n",
    "print(f\"Area: {r1.area()}\\nPerimeter: {r1.perimeter()}\")\n"
   ]
  },
  {
   "cell_type": "markdown",
   "metadata": {},
   "source": [
    "Create a class BankAccount with attributes account_holder, account_number, and balance.\n",
    "1. Use a constructor to initialize them.\n",
    "2. Write methods deposit(amount) and withdraw(amount) to update the balance.\n",
    "3. Also add a method display_balance() to show current balance.\n",
    "Create one object and perform deposit and withdrawal operations.\n"
   ]
  },
  {
   "cell_type": "code",
   "execution_count": 79,
   "metadata": {},
   "outputs": [
    {
     "name": "stdout",
     "output_type": "stream",
     "text": [
      "faisal, 101, 0\n"
     ]
    }
   ],
   "source": [
    "class BankAccount:\n",
    "    def __init__(self, acc_holder, acc_num, balance):\n",
    "        self.acc_holder = acc_holder\n",
    "        self.acc_num = acc_num\n",
    "        self.balance = balance\n",
    "    \n",
    "    def deposit(self, amount):\n",
    "        self.balance += amount \n",
    "    \n",
    "    def withdraw(self, amount):\n",
    "        if amount > self.balance:\n",
    "            print(\"Not enough balance\")\n",
    "        else: \n",
    "            self.balance -= amount\n",
    "        \n",
    "    def __str__(self):\n",
    "        return f\"{self.acc_holder}, {self.acc_num}, {self.balance}\"\n",
    "\n",
    "c1 = BankAccount(\"faisal\", 101, 1000)\n",
    "c1.deposit(2000)\n",
    "c1.withdraw(3000)\n",
    "print(c1)\n",
    "\n"
   ]
  },
  {
   "cell_type": "markdown",
   "metadata": {},
   "source": [
    "Create a class Employee with attributes name, employee_id, and salary.\n",
    "1. Write a constructor to initialize these.\n",
    "2. Add a method show_details() to display employee details.\n",
    "3. Add a method increment_salary() to increase the salary by a given percentage.\n",
    "Create at least two employee objects and apply salary increment.\n"
   ]
  },
  {
   "cell_type": "code",
   "execution_count": 84,
   "metadata": {},
   "outputs": [
    {
     "name": "stdout",
     "output_type": "stream",
     "text": [
      "faisal, 101, 10000\n",
      "faizan, 102, 2000\n",
      "faisal, 101, 12000.0\n",
      "faizan, 102, 2600.0\n"
     ]
    }
   ],
   "source": [
    "class Employee:\n",
    "    def __init__(self, name, emp_id, salary):\n",
    "        self.name = name\n",
    "        self.emp_id = emp_id\n",
    "        self.salary = salary\n",
    "    \n",
    "    def show_details(self):\n",
    "        print(f\"{self.name}, {self.emp_id}, {self.salary}\")\n",
    "\n",
    "    def increment_salary(self, percentage):\n",
    "        self.salary += self.salary * (percentage/ 100)\n",
    "\n",
    "e1 = Employee(\"faisal\", 101, 10000)\n",
    "e2 = Employee(\"faizan\", 102, 2000)\n",
    "\n",
    "e1.show_details()\n",
    "e2.show_details()\n",
    "\n",
    "e1.increment_salary(20)\n",
    "e2.increment_salary(30)\n",
    "\n",
    "e1.show_details()\n",
    "e2.show_details()\n",
    "\n"
   ]
  },
  {
   "cell_type": "markdown",
   "metadata": {},
   "source": [
    "Create a base class Vehicle with attributes brand and year.\n",
    "Create derived classes Car and Bike which add specific attributes like model for Car and type\n",
    "for Bike.\n",
    "Write methods to display all details.\n",
    "Use constructors and method overriding.\n"
   ]
  },
  {
   "cell_type": "code",
   "execution_count": 95,
   "metadata": {},
   "outputs": [
    {
     "name": "stdout",
     "output_type": "stream",
     "text": [
      "Hundai, 2021\n",
      "china\n",
      "bmw, 2020\n",
      "india\n"
     ]
    }
   ],
   "source": [
    "\"Inheritance is a fundamental concept in object-oriented programming (OOP) that allows a class (called a child or derived class) to inherit attributes and methods from another class (called a parent or base class).\"\n",
    "\n",
    "# Types: \n",
    "# 1. Single Lvl Inheritance (child derives from parent )\n",
    "# 2. Multiple Inheritance (child derives from more than one parent)\n",
    "# 3. Multilvl Inhertiance (intermediate child dervies from parent and child derives from intermedite child )\n",
    "# 4. Hierarachical Inheritance (more than one child derives from one parent)\n",
    "\n",
    "\"super() function is used to call the parent class’s methods. In particular, it is commonly used in the child class’s __init__() method to initialize inherited attributes. \"\n",
    "\n",
    "# Method Overriding: \n",
    "# The method name and parameters are exactly the same as in the parent class.\n",
    "# Allows a subclass to provide its own behavior for a method.\n",
    "\n",
    "# Method overloading: \n",
    "# Method overloading is when multiple methods have the same name but different parameters (number or type).\n",
    "\n",
    "# Parent class(super class)\n",
    "class Vehicle:\n",
    "    def __init__(self, brand, year):\n",
    "        self.brand = brand \n",
    "        self.year = year \n",
    "\n",
    "    def show_details(self):\n",
    "        print(f\"{self.brand}, {self.year}\")\n",
    "\n",
    "# Child Class(sub class)\n",
    "class Car (Vehicle):\n",
    "    def __init__(self, brand, year, model):\n",
    "        super().__init__(brand, year) # Class  Vehicle's __init__()\n",
    "        self.model = model \n",
    "\n",
    "    def show_details(self):\n",
    "        super().show_details()\n",
    "        print(f\"{self.model}\")\n",
    "\n",
    "# Child Class(sub class)\n",
    "class Bike (Vehicle):\n",
    "    def __init__(self, brand, year, type):\n",
    "        super().__init__(brand, year)\n",
    "        self.type = type\n",
    "    \n",
    "    def show_details(self):\n",
    "        super().show_details()\n",
    "        print(f\"{self.type}\")\n",
    "    \n",
    "\n",
    "c = Car(\"Hundai\", 2021, \"china\")\n",
    "\n",
    "b = Bike(\"bmw\", 2020, \"india\")\n",
    "\n",
    "c.show_details()\n",
    "\n",
    "b.show_details()\n",
    "\n"
   ]
  },
  {
   "cell_type": "markdown",
   "metadata": {},
   "source": [
    "Create a base class Shape with a method area().\n",
    "Create derived classes Rectangle and Circle that override the area() method to calculate area\n",
    "appropriately.\n",
    "Use method overriding (polymorphism).\n"
   ]
  },
  {
   "cell_type": "code",
   "execution_count": 90,
   "metadata": {},
   "outputs": [
    {
     "name": "stdout",
     "output_type": "stream",
     "text": [
      "Rectangle Area: 200\n",
      "Cirlce Area: 50.26548245743669\n"
     ]
    }
   ],
   "source": [
    "import math \n",
    "class Shape:\n",
    "    def area(self):\n",
    "        return 0\n",
    "\n",
    "class Rectangle(Shape):\n",
    "    def __init__(self, length, breadth):\n",
    "        self.length = length \n",
    "        self.breadth = breadth\n",
    "\n",
    "    def area(self):\n",
    "        return self.length * self.breadth \n",
    "\n",
    "class Circle(Shape):\n",
    "    def __init__(self, radius):\n",
    "        self.radius = radius \n",
    "    \n",
    "    def area(self):\n",
    "        return math.pi * self.radius * self.radius \n",
    "\n",
    "r = Rectangle(10, 20)\n",
    "c = Circle(4)\n",
    "\n",
    "print(f\"Rectangle Area: {r.area()}\\nCirlce Area: {c.area()}\")"
   ]
  },
  {
   "cell_type": "markdown",
   "metadata": {},
   "source": [
    "Create a class Employee with attributes like name and salary.\n",
    "Create two subclasses Manager and Developer that inherit from Employee and have their\n",
    "own extra method show_role() that displays their roles.\n",
    "Demonstrate polymorphism by calling the same method (show_role()) from different objects."
   ]
  },
  {
   "cell_type": "code",
   "execution_count": 94,
   "metadata": {},
   "outputs": [
    {
     "name": "stdout",
     "output_type": "stream",
     "text": [
      "faisal is a Manager with salary 10000\n",
      "faizan is a Developer with salary 1000\n"
     ]
    }
   ],
   "source": [
    "class Employee:\n",
    "    def __init__(self, name, salary):\n",
    "        self.name = name\n",
    "        self.salary = salary \n",
    "\n",
    "    def show_role(self):\n",
    "        print(\"Employee\")\n",
    "\n",
    "class Manager(Employee):\n",
    "    def __init__(self, name, salary):\n",
    "        super().__init__(name, salary)\n",
    "    \n",
    "    def show_role(self):\n",
    "        print(f\"{self.name} is a Manager with salary {self.salary}\")\n",
    "\n",
    "class Developer(Employee):\n",
    "    def __init__(self, name, salary):\n",
    "        super().__init__(name, salary)\n",
    "\n",
    "    def show_role(self):\n",
    "        print(f\"{self.name} is a Developer with salary {self.salary}\")\n",
    "\n",
    "m1 = Manager(\"faisal\", 10000)\n",
    "d1 = Developer(\"faizan\", 1000) \n",
    "\n",
    "m1.show_role()\n",
    "d1.show_role()"
   ]
  },
  {
   "cell_type": "markdown",
   "metadata": {},
   "source": [
    "Create a base class BankAccount with basic attributes like account_holder, balance.\n",
    "Create two subclasses SavingsAccount and CurrentAccount with methods specific to their\n",
    "type (e.g., interest calculation for savings, overdraft limit for current).\n",
    "Use inheritance and additional methods in subclasses."
   ]
  },
  {
   "cell_type": "code",
   "execution_count": 96,
   "metadata": {},
   "outputs": [
    {
     "name": "stdout",
     "output_type": "stream",
     "text": [
      "Saving Account: Faisal, Balance: 6000, Interest Rate: 5\n",
      "Current Account: Faizan, Balance: 3000, Overdraft Limit: 2000\n"
     ]
    }
   ],
   "source": [
    "# Base class\n",
    "class BankAccount:\n",
    "    def __init__(self, account_holder, balance):\n",
    "        self.account_holder = account_holder\n",
    "        self.balance = balance\n",
    "\n",
    "    def show_details(self):\n",
    "        print(f\"Account Holder: {self.account_holder}\")\n",
    "        print(f\"Balance: {self.balance}\")\n",
    "\n",
    "# Subclass for Savings Account\n",
    "class SavingsAccount(BankAccount):\n",
    "    def __init__(self, account_holder, balance, interest_rate):\n",
    "        super().__init__(account_holder, balance)\n",
    "        self.interest_rate = interest_rate  # as a percentage\n",
    "\n",
    "    def calculate_interest(self):\n",
    "        interest = self.balance * (self.interest_rate / 100)\n",
    "        print(f\"Interest earned: {interest}\")\n",
    "        return interest\n",
    "\n",
    "# Subclass for Current Account\n",
    "class CurrentAccount(BankAccount):\n",
    "    def __init__(self, account_holder, balance, overdraft_limit):\n",
    "        super().__init__(account_holder, balance)\n",
    "        self.overdraft_limit = overdraft_limit\n",
    "    #An overdraft is a financial facility that allows you to withdraw money from your bank account, even if it has no balance or a negative balance. \n",
    "    def check_overdraft(self, amount):\n",
    "        if self.balance + self.overdraft_limit >= amount:\n",
    "            print(f\"Withdrawal of {amount} is allowed (within overdraft limit).\")\n",
    "            return True\n",
    "        else:\n",
    "            print(f\"Withdrawal of {amount} exceeds overdraft limit!\")\n",
    "            return False\n",
    "        \n",
    "# Creating objects using constructors (parameterized)\n",
    "s1 = SavingsAccount(\"Faisal\", 6000, 5)\n",
    "c1 = CurrentAccount(\"Faizan\", 3000, 2000)\n",
    "\n",
    "print(f\"Saving Account: {s1.account_holder}, Balance: {s1.balance}, Interest Rate: {s1.interest_rate}\")\n",
    "print(f\"Current Account: {c1.account_holder}, Balance: {c1.balance}, Overdraft Limit: {c1.overdraft_limit}\")"
   ]
  },
  {
   "cell_type": "markdown",
   "metadata": {},
   "source": [
    "Write a Python program that:\n",
    "1. Accepts a string input from the user.\n",
    "2. Writes the string into a text file.\n",
    "3. Then reads and displays the contents of the file.\n",
    "4. Handle exceptions like FileNotFoundError and IOError.\n",
    "Use open(), write(), and read() functions.\n",
    "Include try-except-finally blocks for error handling.\n"
   ]
  },
  {
   "cell_type": "code",
   "execution_count": 104,
   "metadata": {},
   "outputs": [
    {
     "name": "stdout",
     "output_type": "stream",
     "text": [
      "faisal\n",
      "Operation completed\n"
     ]
    }
   ],
   "source": [
    "# File Handling: \n",
    "# File handling refers to the process of performing operations on a file such as creating, opening, reading, writing and closing it, through a programming interface. It involves managing the data flow between the program and the file system on the storage device, ensuring that data is handled safely and efficiently.\n",
    "\n",
    "# Open File:\n",
    "# with open(\"path\", \"Modes\") as file \n",
    "\n",
    "# Modes:\n",
    "# 1. r : (read mode) : read file only if file exists \n",
    "# 2. r+: (Read and write): read file and write if file exists \n",
    "# 3. w : (write mode): write content into a file if a exist or not \n",
    "# 4. w+: (write and read): write content into a file and read if file exists or not \n",
    "# 5. a : (append mode): open a file and append content into a file if file exists or not\n",
    "# 6. a+: (append & read): open a file and append and read content from a file if file exists or not \n",
    "\n",
    "# Read from file:\n",
    "# file.read():\tReads the whole file as one string\tAll lines together\n",
    "# file.readline():\tReads one line at a time\tFirst call: first line, second call: second line, etc.\n",
    "\n",
    "# Write into file \n",
    "# file.write(content)\n",
    "\n",
    "# closing a file \n",
    "# file.close \n",
    "\n",
    "try:\n",
    "    user_inp = input(\"Enter a string:\")\n",
    "\n",
    "    # Opening a file to write and read \n",
    "    with open(\"data.txt\", \"w+\") as file:\n",
    "        # write content into a file \n",
    "        file.write(user_inp) \n",
    "\n",
    "        # Move file point to the beginning after writing \n",
    "        file.seek(0)\n",
    "\n",
    "        # read content from file \n",
    "        content = file.read()\n",
    "        print(content)\n",
    "\n",
    "except FileNotFoundError:\n",
    "    print(\"Error: File not found\")\n",
    "finally:\n",
    "    print(\"Operation completed\")\n",
    "\n",
    "\n"
   ]
  },
  {
   "cell_type": "markdown",
   "metadata": {},
   "source": [
    "Write a Python program that:\n",
    "1. Opens the file in read mode.\n",
    "2. Counts and prints the total number of words in the file.\n",
    "3. Handle any file errors using exception handling.\n",
    "Use file reading methods (read() or readlines()).\n",
    "Use split() to count words.\n",
    "Use try-except to manage errors properly"
   ]
  },
  {
   "cell_type": "code",
   "execution_count": 106,
   "metadata": {},
   "outputs": [
    {
     "name": "stdout",
     "output_type": "stream",
     "text": [
      "Total Words 3\n",
      "Operation completed succesfully\n"
     ]
    }
   ],
   "source": [
    "try:\n",
    "    with open(\"data.txt\", \"r\") as file:\n",
    "        content = file.read()\n",
    "        print(\"Total Words\", len(content.split(\" \")))\n",
    "except FileNotFoundError:\n",
    "    print(\"File not found\")\n",
    "finally: \n",
    "    print(\"Operation completed succesfully\")"
   ]
  },
  {
   "cell_type": "markdown",
   "metadata": {},
   "source": [
    "Tkinter:<br> \n",
    "<br>It is a python library that allows developers to create GUI applications quickly and easily \n",
    "<br>It is a corss platform (can be used in windows , macos, linux etc)\n",
    "<br>It is easy and simple library that provides wide range of widgets and can be used to create different type of applications\n",
    "\n",
    "Features:\n",
    "1. Platform Independent\n",
    "2. Easy to use \n",
    "3. Wide range of widgets \n",
    "4. Customizalbe\n",
    "<br>Steps To create a Tkinter application\n"
   ]
  },
  {
   "cell_type": "code",
   "execution_count": null,
   "metadata": {},
   "outputs": [],
   "source": [
    "# Import Tkinter module\n",
    "import tkinter as tk \n",
    "\n",
    "def on_button_click():\n",
    "    label.config(text=\"Button clicked!\")\n",
    "\n",
    "# Create window \n",
    "window = tk.Tk() \n",
    "\n",
    "# Set window attributes \n",
    "window.title(\"My Tkinter applicaiton\")\n",
    "window.geometry(\"300x300\")\n",
    "\n",
    "# Add widget on the window \n",
    "label = tk.Label(window, text = \"Hello this is my first tkinter applicaiton\")\n",
    "label.pack(pady = 20) # pack() add widgets on the window pady , padx are external padding and ipady and ipadx are inter padding \n",
    "\n",
    "button = tk.Button(window, text = \"Click me!\", command = on_button_click)\n",
    "button.pack(pady = 10)\n",
    "\n",
    "# Run event (application)\n",
    "window.mainloop()"
   ]
  },
  {
   "cell_type": "markdown",
   "metadata": {},
   "source": [
    "Design a GUI application using Tkinter that:\n",
    "Accepts two numbers as input.\n",
    "Displays their sum when a button is clicked.\n",
    "Use Entry, Label, and Button widgets.\n",
    "Add basic input validation (e.g., both fields must be filled)"
   ]
  },
  {
   "cell_type": "code",
   "execution_count": 114,
   "metadata": {},
   "outputs": [],
   "source": [
    "# Import Tkinter module\n",
    "import tkinter as tk \n",
    "\n",
    "def calculate_sum():\n",
    "    num1 = entry1.get()\n",
    "    num2 = entry2.get() \n",
    "\n",
    "    # Validation \n",
    "    if not num1 or not num2:\n",
    "        result_label.config(text=\"Plz first enter both nos!\")\n",
    "        return \n",
    "    try:\n",
    "        sum = float(num1) + float(num2) \n",
    "        result_label.config(text = f\"Sum is {sum}\")\n",
    "    except ValueError: \n",
    "        result_label.config(text=\"Plz eneter valid nos\")\n",
    "\n",
    "# Create window \n",
    "window = tk.Tk() \n",
    "\n",
    "window.title(\"Calculator Applicaiton\")\n",
    "window.geometry(\"500x500\")\n",
    "\n",
    "# First label\n",
    "first_label = tk.Label(window, text=\"Enter first no: \")\n",
    "first_label.pack(pady = 5)\n",
    "\n",
    "# Take two Entry fields\n",
    "# tk.Entry(parent , options) \n",
    "# Methods: \n",
    "# get(): Returns the entry's current text as a string. \n",
    "# delete() : Deletes characters from the widget \n",
    "# insert ( index, 'name') : Inserts string 'name' before the character at the given index. \n",
    "\n",
    "entry1 = tk.Entry(window)\n",
    "entry1.pack(pady = 5)\n",
    "\n",
    "second_label = tk.Label(window, text =\"Enter second no: \")\n",
    "second_label.pack(pady = 5)\n",
    "\n",
    "entry2 = tk.Entry(window)\n",
    "entry2.pack(pady = 5)\n",
    "\n",
    "result_label = tk.Label(window, text=\"\")\n",
    "result_label.pack(pady = 5)\n",
    "\n",
    "# Button to calc sum \n",
    "Button = tk.Button(window, text= \"Cacl Sum\", command=calculate_sum)\n",
    "Button.pack()\n",
    "\n",
    "# Run the application \n",
    "window.mainloop() \n"
   ]
  },
  {
   "cell_type": "markdown",
   "metadata": {},
   "source": [
    "Create a basic login form GUI with:\n",
    "1. Username and password entry fields.\n",
    "2. A \"Login\" button that shows a message like “Login Successful” on clicking.\n",
    "Use Label, Entry, and Button widgets.\n",
    "Display feedback using messagebox."
   ]
  },
  {
   "cell_type": "code",
   "execution_count": 117,
   "metadata": {},
   "outputs": [],
   "source": [
    "import tkinter as tk\n",
    "from tkinter import messagebox \n",
    "\n",
    "def login():\n",
    "    username = username_entry.get()\n",
    "    password = password_entry.get()\n",
    "\n",
    "    if username and password:\n",
    "        messagebox.showinfo(\"Login\", \"Login Successful\")\n",
    "    else:\n",
    "        messagebox.showwarning(\"Login\", \"Plz Enter Both Credentials\")\n",
    "\n",
    "# Create window\n",
    "window = tk.Tk()\n",
    "window.title(\"Login Application\")\n",
    "window.geometry(\"300x200\")\n",
    "\n",
    "# Add two labels and entries \n",
    "tk.Label(window, text=\"Username\").pack(pady = 5)\n",
    "\n",
    "username_entry = tk.Entry(window)\n",
    "username_entry.pack(pady = 5)\n",
    "\n",
    "tk.Label(window, text=\"Password\").pack(pady = 5)\n",
    "\n",
    "password_entry = tk.Entry(window, show =\"*\")\n",
    "password_entry.pack(pady = 5)\n",
    "\n",
    "\n",
    "# Login button \n",
    "tk.Button(window, text=\"Login\", command = login).pack(pady = 5)\n",
    "\n",
    "# Start applicaiton \n",
    "window.mainloop()\n"
   ]
  },
  {
   "cell_type": "markdown",
   "metadata": {},
   "source": [
    "Create a Python program to:\n",
    "1. Connect to an SQLite database.\n",
    "2. Create a students table (if it doesn’t exist).\n",
    "3. Insert at least 3 student records (name, age, grade).\n",
    "4. Fetch and display all student records.\n",
    "Use DDL (CREATE TABLE) and DML (INSERT, SELECT) commands.\n",
    "Use sqlite3 module in Python."
   ]
  },
  {
   "cell_type": "code",
   "execution_count": 132,
   "metadata": {},
   "outputs": [
    {
     "name": "stdout",
     "output_type": "stream",
     "text": [
      "Students Records: \n",
      "(1, 'faisal', 20, 'A')\n",
      "(2, 'faizan', 20, 'B')\n",
      "(3, 'harsha', 19, 'A+')\n",
      "(4, 'faisal', 20, 'A')\n",
      "(5, 'faizan', 20, 'B')\n",
      "(6, 'harsha', 19, 'A+')\n",
      "(7, 'faisal', 20, 'A')\n",
      "(8, 'faizan', 20, 'B')\n",
      "(9, 'harsha', 19, 'A+')\n",
      "(10, 'faisal', 20, 'A')\n",
      "(11, 'faizan', 20, 'B')\n",
      "(12, 'harsha', 19, 'A+')\n",
      "(13, 'faisal', 20, 'A')\n",
      "(14, 'faizan', 20, 'B')\n",
      "(15, 'harsha', 19, 'A+')\n"
     ]
    }
   ],
   "source": [
    "# SQLite is a lightweight, serverless database engine that integrates seamlessly with Python. It allows you to store, retrieve, and manage structured data using SQL without the need for a separate database server. With Python's built-in sqlite3 module, you can create, query, and manipulate an SQLite database quickly.\n",
    "\n",
    "# Import Module \n",
    "import sqlite3 \n",
    "\n",
    "# Establish connection with sqlite database \n",
    "connection = sqlite3.connect(\"student.db\") \n",
    "\n",
    "# Create cursor : used to interact with database \n",
    "cursor = connection.cursor()\n",
    "\n",
    "# Perform Datamanipulation\n",
    "\n",
    "# Create Student table \n",
    "command = \"\"\"\n",
    "    CREATE TABLE IF NOT EXISTS STUDENT(\n",
    "        ID INTEGER PRIMARY KEY AUTOINCREMENT,\n",
    "        NAME TEXT,\n",
    "        AGE INTEGER,\n",
    "        GRADE TEXT\n",
    "    )\n",
    "\"\"\"\n",
    "\n",
    "cursor.execute(command)\n",
    "\n",
    "# Insert 3 student records \n",
    "\n",
    "students_data = [\n",
    "    [\"faisal\", 20, \"A\"],\n",
    "    [\"faizan\", 20, \"B\"],\n",
    "    [\"harsha\", 19, \"A+\"],\n",
    "]\n",
    "\n",
    "cursor.executemany(\"INSERT INTO STUDENT (NAME, AGE, GRADE) VALUES(?, ?, ?)\", students_data)\n",
    "# connection.commit() # Save changes\n",
    "\n",
    "# Fetch and display all records \n",
    "cursor.execute(\"SELECT * FROM STUDENT\")\n",
    "rows = cursor.fetchall()\n",
    "\n",
    "print(\"Students Records: \")\n",
    "\n",
    "for row in rows:\n",
    "    print(row)\n",
    "# Close connection\n",
    "connection.close()"
   ]
  },
  {
   "cell_type": "markdown",
   "metadata": {},
   "source": [
    "Write a Python program that:\n",
    "1. Creates an employees table with fields: id, name, salary.\n",
    "2. Inserts at least two employee records.\n",
    "3. Updates the salary of one employee.\n",
    "4. Deletes one employee record by name.\n",
    "5. Displays all remaining records.\n",
    "Use DDL (CREATE TABLE) and DML (INSERT, UPDATE, DELETE, SELECT).\n",
    "Use sqlite3 with commit and close statements properly."
   ]
  },
  {
   "cell_type": "code",
   "execution_count": 1,
   "metadata": {},
   "outputs": [
    {
     "name": "stdout",
     "output_type": "stream",
     "text": [
      "Employee's Records\n",
      "(100, 'Faisal', 20000)\n"
     ]
    }
   ],
   "source": [
    "import sqlite3\n",
    "\n",
    "conn = sqlite3.connect(\"employee.db\", timeout=10)\n",
    "cursor = conn.cursor()\n",
    "\n",
    "command = \"\"\"\n",
    "    CREATE TABLE IF NOT EXISTS EMPLOYEE(\n",
    "        EID INTEGER PRIMARY KEY,\n",
    "        ENAME TEXT NOT NULL,\n",
    "        SALARY INTEGER\n",
    "    )\n",
    "\"\"\"\n",
    "cursor.execute(command)\n",
    "\n",
    "emp_records = [\n",
    "    [100, \"Faisal\", 10000],\n",
    "    [101, \"Harsha\", 10000],\n",
    "]\n",
    "\n",
    "# Insert records\n",
    "cursor.executemany(\"INSERT INTO EMPLOYEE(EID, ENAME, SALARY) VALUES(?, ?, ?)\", emp_records)\n",
    "conn.commit()  # Commit after insert\n",
    "\n",
    "# Update\n",
    "cursor.execute(\"UPDATE EMPLOYEE SET SALARY = 20000 WHERE EID = 100\")\n",
    "conn.commit()  # Commit after update\n",
    "\n",
    "# Delete\n",
    "cursor.execute(\"DELETE FROM EMPLOYEE WHERE ENAME = 'Harsha'\")\n",
    "conn.commit()  # Commit after delete\n",
    "\n",
    "# Fetch all records\n",
    "cursor.execute(\"SELECT * FROM EMPLOYEE\")\n",
    "rows = cursor.fetchall()\n",
    "\n",
    "print(\"Employee's Records\")\n",
    "for row in rows:\n",
    "    print(row)\n",
    "\n",
    "conn.close()\n"
   ]
  },
  {
   "cell_type": "markdown",
   "metadata": {},
   "source": [
    "Write a program that:\n",
    "1. Creates a Pandas DataFrame with names and marks of 5 students.\n",
    "2. Uses NumPy to calculate the average, maximum, and minimum marks.\n",
    "3. Uses Matplotlib to display a bar chart of student names vs. marks.\n",
    "Use pandas.DataFrame, numpy.mean(), and matplotlib.pyplot.bar()."
   ]
  },
  {
   "cell_type": "code",
   "execution_count": null,
   "metadata": {},
   "outputs": [
    {
     "name": "stdout",
     "output_type": "stream",
     "text": [
      "Average marks: 87.6\n",
      "Maximum marks: 95\n",
      "Minimum marks: 78\n"
     ]
    },
    {
     "data": {
      "image/png": "[encoded data removed]",
      "text/plain": [
       "<Figure size 640x480 with 1 Axes>"
      ]
     },
     "metadata": {},
     "output_type": "display_data"
    }
   ],
   "source": [
    "# pandas is an open-source library for efficient data processing, cleaning, and analysis, especially with tabular data like CSV files and databases.\n",
    "\n",
    "# numpy is a popular library for fast numerical computing, especially with large arrays and matrices, making complex calculations easy and efficient.\n",
    "\n",
    "# matplotlib is a powerful library for creating a wide variety of static and interactive charts and graphs, used to visualize and analyze data trends in Python.\n",
    "\n",
    "import pandas as pd\n",
    "import numpy as np\n",
    "import matplotlib.pyplot as plt\n",
    "\n",
    "# 1. Create a DataFrame with names and marks of 5 students\n",
    "data = {\n",
    "    'Name': ['Alice', 'Bob', 'Charlie', 'David', 'Eve'],\n",
    "    'Marks': [85, 92, 78, 88, 95]\n",
    "}\n",
    "df = pd.DataFrame(data)\n",
    "\n",
    "# 2. Use NumPy to calculate average, maximum, and minimum marks\n",
    "marks = df['Marks'].values\n",
    "average = np.mean(marks)\n",
    "maximum = np.max(marks)\n",
    "minimum = np.min(marks)\n",
    "\n",
    "print(\"Average marks:\", average)\n",
    "print(\"Maximum marks:\", maximum)\n",
    "print(\"Minimum marks:\", minimum)\n",
    "\n",
    "# 3. Use Matplotlib to display a bar chart of student names vs. marks\n",
    "plt.bar(df['Name'], df['Marks'], color='skyblue')\n",
    "plt.xlabel('Student Name')\n",
    "plt.ylabel('Marks')\n",
    "plt.title('Student Marks Bar Chart')\n",
    "plt.ylim(0, 100)\n",
    "plt.show()\n"
   ]
  },
  {
   "cell_type": "markdown",
   "metadata": {},
   "source": [
    "Create a program that:\n",
    "1. Loads monthly sales data into a Pandas DataFrame (e.g., 6 months).\n",
    "2. Calculates the total and average sales using NumPy.\n",
    "3. Plots a line graph of month vs. sales using Matplotlib.\n",
    "Use pandas, numpy, and matplotlib.pyplot.plot()."
   ]
  },
  {
   "cell_type": "code",
   "execution_count": 7,
   "metadata": {},
   "outputs": [
    {
     "name": "stdout",
     "output_type": "stream",
     "text": [
      "Total Sales: 8900\n",
      "Average Sales: 1483.3333333333333\n"
     ]
    },
    {
     "data": {
      "image/png": "[encoded data removed]",
      "text/plain": [
       "<Figure size 640x480 with 1 Axes>"
      ]
     },
     "metadata": {},
     "output_type": "display_data"
    }
   ],
   "source": [
    "import pandas as pd\n",
    "import numpy as np\n",
    "import matplotlib.pyplot as plt\n",
    "\n",
    "# 1. Load monthly sales data into a DataFrame\n",
    "data = {\n",
    "    'Month': ['January', 'February', 'March', 'April', 'May', 'June'],\n",
    "    'Sales': [1200, 1500, 1100, 1800, 1700, 1600]\n",
    "}\n",
    "df = pd.DataFrame(data)\n",
    "\n",
    "# 2. Calculate total and average sales using NumPy\n",
    "sales = df['Sales'].values\n",
    "total_sales = np.sum(sales)\n",
    "average_sales = np.mean(sales)\n",
    "\n",
    "print(\"Total Sales:\", total_sales)\n",
    "print(\"Average Sales:\", average_sales)\n",
    "\n",
    "# 3. Plot a line graph of month vs. sales using Matplotlib\n",
    "plt.plot(df['Month'], df['Sales'], marker='o', linestyle='-', color='b')\n",
    "plt.title('Monthly Sales Trend')\n",
    "plt.xlabel('Month')\n",
    "plt.ylabel('Sales')\n",
    "plt.grid(True)\n",
    "plt.tight_layout()\n",
    "plt.show()\n"
   ]
  }
 ],
 "metadata": {
  "kernelspec": {
   "display_name": "Python 3",
   "language": "python",
   "name": "python3"
  },
  "language_info": {
   "codemirror_mode": {
    "name": "ipython",
    "version": 3
   },
   "file_extension": ".py",
   "mimetype": "text/x-python",
   "name": "python",
   "nbconvert_exporter": "python",
   "pygments_lexer": "ipython3",
   "version": "3.13.1"
  }
 },
 "nbformat": 4,
 "nbformat_minor": 2
}
